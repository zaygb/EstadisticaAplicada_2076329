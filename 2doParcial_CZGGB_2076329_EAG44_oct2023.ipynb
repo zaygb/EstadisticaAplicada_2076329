{
 "cells": [
  {
   "attachments": {},
   "cell_type": "markdown",
   "metadata": {},
   "source": [
    "## Segundo Parcial \n",
    "### Estadística Aplicada\n",
    "\n",
    "Cinthia Zaydé Gabrielle García Belmonte\n",
    "\n",
    "Gpo 44 - 2076329"
   ]
  },
  {
   "cell_type": "code",
   "execution_count": 1,
   "metadata": {},
   "outputs": [],
   "source": [
    "#Librerias\n",
    "import numpy as np\n",
    "import pandas as pd\n",
    "import matplotlib.pyplot as plt\n",
    "%matplotlib inline"
   ]
  },
  {
   "cell_type": "code",
   "execution_count": 2,
   "metadata": {},
   "outputs": [],
   "source": [
    "# Librerias especializadas \n",
    "from lifelines import CoxPHFitter, KaplanMeierFitter, ExponentialFitter, WeibullFitter, LogNormalFitter\n",
    "from lifelines.statistics import logrank_test\n",
    "import seaborn as sns"
   ]
  },
  {
   "cell_type": "code",
   "execution_count": 3,
   "metadata": {},
   "outputs": [],
   "source": [
    "credit_risk = pd.read_csv('https://raw.githubusercontent.com/jimmyzac/Estadistica-Aplicada-FCFM-UANL/main/bases_datos/credit_risk.csv')"
   ]
  },
  {
   "cell_type": "code",
   "execution_count": 4,
   "metadata": {},
   "outputs": [
    {
     "data": {
      "text/html": [
       "<div>\n",
       "<style scoped>\n",
       "    .dataframe tbody tr th:only-of-type {\n",
       "        vertical-align: middle;\n",
       "    }\n",
       "\n",
       "    .dataframe tbody tr th {\n",
       "        vertical-align: top;\n",
       "    }\n",
       "\n",
       "    .dataframe thead th {\n",
       "        text-align: right;\n",
       "    }\n",
       "</style>\n",
       "<table border=\"1\" class=\"dataframe\">\n",
       "  <thead>\n",
       "    <tr style=\"text-align: right;\">\n",
       "      <th></th>\n",
       "      <th>saldo_cuenta</th>\n",
       "      <th>meses</th>\n",
       "      <th>historia_crediticia</th>\n",
       "      <th>uso</th>\n",
       "      <th>cantidad</th>\n",
       "      <th>saldo_cuenta_ahorro</th>\n",
       "      <th>años_trabajando</th>\n",
       "      <th>tasa_de_interes</th>\n",
       "      <th>genero_estado_civil</th>\n",
       "      <th>aval</th>\n",
       "      <th>...</th>\n",
       "      <th>activos</th>\n",
       "      <th>edad</th>\n",
       "      <th>planes_de_pago</th>\n",
       "      <th>casa</th>\n",
       "      <th>numero_creditos</th>\n",
       "      <th>situacion_laboral</th>\n",
       "      <th>dependientes_economicos</th>\n",
       "      <th>telefono</th>\n",
       "      <th>extranjero</th>\n",
       "      <th>credito_pagado</th>\n",
       "    </tr>\n",
       "  </thead>\n",
       "  <tbody>\n",
       "    <tr>\n",
       "      <th>0</th>\n",
       "      <td>menor_a_cero</td>\n",
       "      <td>6</td>\n",
       "      <td>no_ha_pagado</td>\n",
       "      <td>TV</td>\n",
       "      <td>1169</td>\n",
       "      <td>NaN</td>\n",
       "      <td>mas_de_7</td>\n",
       "      <td>4</td>\n",
       "      <td>hombre_soltero</td>\n",
       "      <td>NaN</td>\n",
       "      <td>...</td>\n",
       "      <td>bienes_raices</td>\n",
       "      <td>67</td>\n",
       "      <td>NaN</td>\n",
       "      <td>propia</td>\n",
       "      <td>2</td>\n",
       "      <td>gobierno</td>\n",
       "      <td>1</td>\n",
       "      <td>1</td>\n",
       "      <td>1</td>\n",
       "      <td>1</td>\n",
       "    </tr>\n",
       "    <tr>\n",
       "      <th>1</th>\n",
       "      <td>cero_a_200</td>\n",
       "      <td>48</td>\n",
       "      <td>pago_algun_credito</td>\n",
       "      <td>TV</td>\n",
       "      <td>5951</td>\n",
       "      <td>menor_100</td>\n",
       "      <td>1_a_4</td>\n",
       "      <td>2</td>\n",
       "      <td>mujer_no_soltera</td>\n",
       "      <td>NaN</td>\n",
       "      <td>...</td>\n",
       "      <td>bienes_raices</td>\n",
       "      <td>22</td>\n",
       "      <td>NaN</td>\n",
       "      <td>propia</td>\n",
       "      <td>1</td>\n",
       "      <td>gobierno</td>\n",
       "      <td>1</td>\n",
       "      <td>0</td>\n",
       "      <td>1</td>\n",
       "      <td>0</td>\n",
       "    </tr>\n",
       "    <tr>\n",
       "      <th>2</th>\n",
       "      <td>sin_cuenta</td>\n",
       "      <td>12</td>\n",
       "      <td>no_ha_pagado</td>\n",
       "      <td>colegiaturas</td>\n",
       "      <td>2096</td>\n",
       "      <td>menor_100</td>\n",
       "      <td>4_a_7</td>\n",
       "      <td>2</td>\n",
       "      <td>hombre_soltero</td>\n",
       "      <td>NaN</td>\n",
       "      <td>...</td>\n",
       "      <td>bienes_raices</td>\n",
       "      <td>49</td>\n",
       "      <td>NaN</td>\n",
       "      <td>propia</td>\n",
       "      <td>1</td>\n",
       "      <td>obrero</td>\n",
       "      <td>2</td>\n",
       "      <td>0</td>\n",
       "      <td>1</td>\n",
       "      <td>1</td>\n",
       "    </tr>\n",
       "    <tr>\n",
       "      <th>3</th>\n",
       "      <td>menor_a_cero</td>\n",
       "      <td>42</td>\n",
       "      <td>pago_algun_credito</td>\n",
       "      <td>mobiliario</td>\n",
       "      <td>7882</td>\n",
       "      <td>menor_100</td>\n",
       "      <td>4_a_7</td>\n",
       "      <td>2</td>\n",
       "      <td>hombre_soltero</td>\n",
       "      <td>aval</td>\n",
       "      <td>...</td>\n",
       "      <td>seguro_vida</td>\n",
       "      <td>45</td>\n",
       "      <td>NaN</td>\n",
       "      <td>prestada</td>\n",
       "      <td>1</td>\n",
       "      <td>gobierno</td>\n",
       "      <td>2</td>\n",
       "      <td>0</td>\n",
       "      <td>1</td>\n",
       "      <td>1</td>\n",
       "    </tr>\n",
       "    <tr>\n",
       "      <th>4</th>\n",
       "      <td>menor_a_cero</td>\n",
       "      <td>24</td>\n",
       "      <td>pago_retrasado</td>\n",
       "      <td>coche_nuevo</td>\n",
       "      <td>4870</td>\n",
       "      <td>menor_100</td>\n",
       "      <td>1_a_4</td>\n",
       "      <td>3</td>\n",
       "      <td>hombre_soltero</td>\n",
       "      <td>NaN</td>\n",
       "      <td>...</td>\n",
       "      <td>sin_activos</td>\n",
       "      <td>53</td>\n",
       "      <td>NaN</td>\n",
       "      <td>prestada</td>\n",
       "      <td>2</td>\n",
       "      <td>gobierno</td>\n",
       "      <td>2</td>\n",
       "      <td>0</td>\n",
       "      <td>1</td>\n",
       "      <td>0</td>\n",
       "    </tr>\n",
       "  </tbody>\n",
       "</table>\n",
       "<p>5 rows × 21 columns</p>\n",
       "</div>"
      ],
      "text/plain": [
       "   saldo_cuenta  meses historia_crediticia           uso  cantidad   \n",
       "0  menor_a_cero      6        no_ha_pagado            TV      1169  \\\n",
       "1    cero_a_200     48  pago_algun_credito            TV      5951   \n",
       "2    sin_cuenta     12        no_ha_pagado  colegiaturas      2096   \n",
       "3  menor_a_cero     42  pago_algun_credito    mobiliario      7882   \n",
       "4  menor_a_cero     24      pago_retrasado   coche_nuevo      4870   \n",
       "\n",
       "  saldo_cuenta_ahorro años_trabajando  tasa_de_interes genero_estado_civil   \n",
       "0                 NaN        mas_de_7                4      hombre_soltero  \\\n",
       "1           menor_100           1_a_4                2    mujer_no_soltera   \n",
       "2           menor_100           4_a_7                2      hombre_soltero   \n",
       "3           menor_100           4_a_7                2      hombre_soltero   \n",
       "4           menor_100           1_a_4                3      hombre_soltero   \n",
       "\n",
       "   aval  ...        activos edad  planes_de_pago      casa numero_creditos   \n",
       "0   NaN  ...  bienes_raices   67             NaN    propia               2  \\\n",
       "1   NaN  ...  bienes_raices   22             NaN    propia               1   \n",
       "2   NaN  ...  bienes_raices   49             NaN    propia               1   \n",
       "3  aval  ...    seguro_vida   45             NaN  prestada               1   \n",
       "4   NaN  ...    sin_activos   53             NaN  prestada               2   \n",
       "\n",
       "   situacion_laboral dependientes_economicos  telefono  extranjero   \n",
       "0           gobierno                       1         1           1  \\\n",
       "1           gobierno                       1         0           1   \n",
       "2             obrero                       2         0           1   \n",
       "3           gobierno                       2         0           1   \n",
       "4           gobierno                       2         0           1   \n",
       "\n",
       "   credito_pagado  \n",
       "0               1  \n",
       "1               0  \n",
       "2               1  \n",
       "3               1  \n",
       "4               0  \n",
       "\n",
       "[5 rows x 21 columns]"
      ]
     },
     "execution_count": 4,
     "metadata": {},
     "output_type": "execute_result"
    }
   ],
   "source": [
    "credit_risk.head()"
   ]
  },
  {
   "attachments": {},
   "cell_type": "markdown",
   "metadata": {},
   "source": [
    "*credito_pagado:* 1: el cliente ha pagado completamente el prestamo, 0: el cliente no ha pagado completamente el prestamo \n",
    "\n",
    "*meses:* tiempo en meses que lleva pagar completamente el prestamo\n",
    "\n",
    "*cantidad:* monto del prestamo en euros"
   ]
  },
  {
   "attachments": {},
   "cell_type": "markdown",
   "metadata": {},
   "source": [
    "## 1. Análisis Exploratorio"
   ]
  },
  {
   "attachments": {},
   "cell_type": "markdown",
   "metadata": {},
   "source": [
    "### a) Cuantas variables y cuantas observaciones tienen la base"
   ]
  },
  {
   "cell_type": "code",
   "execution_count": 5,
   "metadata": {},
   "outputs": [
    {
     "name": "stdout",
     "output_type": "stream",
     "text": [
      "<class 'pandas.core.frame.DataFrame'>\n",
      "RangeIndex: 1000 entries, 0 to 999\n",
      "Data columns (total 21 columns):\n",
      " #   Column                   Non-Null Count  Dtype \n",
      "---  ------                   --------------  ----- \n",
      " 0   saldo_cuenta             1000 non-null   object\n",
      " 1   meses                    1000 non-null   int64 \n",
      " 2   historia_crediticia      1000 non-null   object\n",
      " 3   uso                      1000 non-null   object\n",
      " 4   cantidad                 1000 non-null   int64 \n",
      " 5   saldo_cuenta_ahorro      817 non-null    object\n",
      " 6   años_trabajando          1000 non-null   object\n",
      " 7   tasa_de_interes          1000 non-null   int64 \n",
      " 8   genero_estado_civil      1000 non-null   object\n",
      " 9   aval                     52 non-null     object\n",
      " 10  años_actual_domicilio    1000 non-null   int64 \n",
      " 11  activos                  1000 non-null   object\n",
      " 12  edad                     1000 non-null   int64 \n",
      " 13  planes_de_pago           186 non-null    object\n",
      " 14  casa                     1000 non-null   object\n",
      " 15  numero_creditos          1000 non-null   int64 \n",
      " 16  situacion_laboral        1000 non-null   object\n",
      " 17  dependientes_economicos  1000 non-null   int64 \n",
      " 18  telefono                 1000 non-null   int64 \n",
      " 19  extranjero               1000 non-null   int64 \n",
      " 20  credito_pagado           1000 non-null   int64 \n",
      "dtypes: int64(10), object(11)\n",
      "memory usage: 164.2+ KB\n"
     ]
    }
   ],
   "source": [
    "credit_risk.info()"
   ]
  },
  {
   "attachments": {},
   "cell_type": "markdown",
   "metadata": {},
   "source": [
    "La base de datos tiene 1000 observaciones y 21 variables"
   ]
  },
  {
   "attachments": {},
   "cell_type": "markdown",
   "metadata": {},
   "source": [
    "### b) Cuál es el monto promedio de los créditos otorgados por el banco"
   ]
  },
  {
   "cell_type": "code",
   "execution_count": 37,
   "metadata": {},
   "outputs": [
    {
     "name": "stdout",
     "output_type": "stream",
     "text": [
      "El monto promedio de los creditos otorgados es de : 3271.26 euros\n"
     ]
    }
   ],
   "source": [
    "print('El monto promedio de los creditos otorgados es de :', credit_risk['cantidad'].mean().round(2), 'euros')"
   ]
  },
  {
   "attachments": {},
   "cell_type": "markdown",
   "metadata": {},
   "source": [
    "### c) Cuál es el tiempo promedio que se tardaron en pagar el préstamo los que pagaron el préstamo en su totalidad"
   ]
  },
  {
   "cell_type": "code",
   "execution_count": 7,
   "metadata": {},
   "outputs": [],
   "source": [
    "si_pagados = credit_risk[credit_risk['credito_pagado']==1]"
   ]
  },
  {
   "cell_type": "code",
   "execution_count": 8,
   "metadata": {},
   "outputs": [
    {
     "name": "stdout",
     "output_type": "stream",
     "text": [
      "El tiempo promedio que se tardaron en pagar el préstamos los que si pagaron el prestamo en su totalidad fue de 19.0 meses\n"
     ]
    }
   ],
   "source": [
    "print('El tiempo promedio que se tardaron en pagar el préstamos los que si pagaron el prestamo en su totalidad fue de', si_pagados['meses'].mean().round(0), 'meses')"
   ]
  },
  {
   "attachments": {},
   "cell_type": "markdown",
   "metadata": {},
   "source": [
    "### d) Cuál es la tasa de interés promedio otorgada por el banco"
   ]
  },
  {
   "cell_type": "code",
   "execution_count": 9,
   "metadata": {},
   "outputs": [
    {
     "name": "stdout",
     "output_type": "stream",
     "text": [
      "La tasa promedio de interes otorgada por el banco es de: 2.973\n"
     ]
    }
   ],
   "source": [
    "print('La tasa promedio de interes otorgada por el banco es de:', credit_risk['tasa_de_interes'].mean())"
   ]
  },
  {
   "attachments": {},
   "cell_type": "markdown",
   "metadata": {},
   "source": [
    "### e) Cuál es el monto promedio y la tasa de interés promedio de los que ya pagaron"
   ]
  },
  {
   "cell_type": "code",
   "execution_count": 10,
   "metadata": {},
   "outputs": [
    {
     "name": "stdout",
     "output_type": "stream",
     "text": [
      "El monto promedio de los que ya pagaron es de: 2985.46 euros\n"
     ]
    }
   ],
   "source": [
    "print('El monto promedio de los que ya pagaron es de:', si_pagados['cantidad'].mean().round(2), 'euros')"
   ]
  },
  {
   "cell_type": "code",
   "execution_count": 11,
   "metadata": {},
   "outputs": [
    {
     "name": "stdout",
     "output_type": "stream",
     "text": [
      "La tasa promedio de los que ya pagaron es de: 2.92\n"
     ]
    }
   ],
   "source": [
    "print('La tasa promedio de los que ya pagaron es de:', si_pagados['tasa_de_interes'].mean().round(2))"
   ]
  },
  {
   "attachments": {},
   "cell_type": "markdown",
   "metadata": {},
   "source": [
    "### f) Cuál es el monto promedio y la tasa de interés promedio de los que no han pagado "
   ]
  },
  {
   "cell_type": "code",
   "execution_count": 12,
   "metadata": {},
   "outputs": [],
   "source": [
    "no_pagados = credit_risk[credit_risk['credito_pagado']==0]"
   ]
  },
  {
   "cell_type": "code",
   "execution_count": 13,
   "metadata": {},
   "outputs": [
    {
     "name": "stdout",
     "output_type": "stream",
     "text": [
      "El monto promedio de los que ya pagaron es de: 3938.13 euros\n"
     ]
    }
   ],
   "source": [
    "print('El monto promedio de los que ya pagaron es de:', no_pagados['cantidad'].mean().round(2), 'euros')"
   ]
  },
  {
   "cell_type": "code",
   "execution_count": 14,
   "metadata": {},
   "outputs": [
    {
     "name": "stdout",
     "output_type": "stream",
     "text": [
      "La tasa promedio de los que ya pagaron es de: 3.1\n"
     ]
    }
   ],
   "source": [
    "print('La tasa promedio de los que ya pagaron es de:', no_pagados['tasa_de_interes'].mean().round(2))"
   ]
  },
  {
   "attachments": {},
   "cell_type": "markdown",
   "metadata": {},
   "source": [
    "## 2. Estime un modelo de Kaplan-meier"
   ]
  },
  {
   "cell_type": "code",
   "execution_count": 15,
   "metadata": {},
   "outputs": [],
   "source": [
    "km1 =KaplanMeierFitter().fit(credit_risk['meses'],credit_risk['credito_pagado'])"
   ]
  },
  {
   "attachments": {},
   "cell_type": "markdown",
   "metadata": {},
   "source": [
    "### a) cuál es la mediana del tiempo y que significa"
   ]
  },
  {
   "cell_type": "code",
   "execution_count": 16,
   "metadata": {},
   "outputs": [
    {
     "name": "stdout",
     "output_type": "stream",
     "text": [
      "La mediana de tiempo de supervivencia: 24.0\n"
     ]
    }
   ],
   "source": [
    "print('La mediana de tiempo de supervivencia:', km1.median_survival_time_)"
   ]
  },
  {
   "cell_type": "markdown",
   "metadata": {},
   "source": [
    "Significa que la mitad de los clientes pagan el credito después de los 24 meses"
   ]
  },
  {
   "attachments": {},
   "cell_type": "markdown",
   "metadata": {},
   "source": [
    "### b) es mayor/menor que el tiempo promedio del inciso 1c"
   ]
  },
  {
   "attachments": {},
   "cell_type": "markdown",
   "metadata": {},
   "source": [
    "Es mayor, ya que la mediana del tiempo de supervivencia del modelo KM es de 24 y el tiempo promedio que tardan en apgar es de 19"
   ]
  },
  {
   "attachments": {},
   "cell_type": "markdown",
   "metadata": {},
   "source": [
    "## 3. Determine si el riesgo de que el préstamo se pague en su totalidad es constante,creciente, decreciente, o tipo log-normal respecto al tiempo"
   ]
  },
  {
   "cell_type": "code",
   "execution_count": 17,
   "metadata": {},
   "outputs": [],
   "source": [
    "# Calcular los modelos que se podrían utilizar\n",
    "mexpo = ExponentialFitter().fit(credit_risk['meses'], credit_risk['credito_pagado'])\n",
    "mweibull = WeibullFitter().fit(credit_risk['meses'], credit_risk['credito_pagado'])\n",
    "mlogn = LogNormalFitter().fit(credit_risk['meses'], credit_risk['credito_pagado'])"
   ]
  },
  {
   "cell_type": "code",
   "execution_count": 18,
   "metadata": {},
   "outputs": [
    {
     "name": "stdout",
     "output_type": "stream",
     "text": [
      "Exp 6157.19 , Weibull 5900.98 , LogNormal 5813.75\n"
     ]
    }
   ],
   "source": [
    "# Determinar cual es el que mejor se ajusta a los datos por medio del AIC (el que tentga menor AIC sera el optimo)\n",
    "print('Exp', mexpo.AIC_.round(2), ', Weibull', mweibull.AIC_.round(2), ', LogNormal', mlogn.AIC_.round(2))"
   ]
  },
  {
   "attachments": {},
   "cell_type": "markdown",
   "metadata": {},
   "source": [
    "El riesgo de que el prestamo se pague en su totalidad es log-normal respecto al tiempo"
   ]
  },
  {
   "attachments": {},
   "cell_type": "markdown",
   "metadata": {},
   "source": [
    "## 4. Estimar un modelo de Cox para ver qué factores influyen sobre el riesgo de que el préstamo se pague en su totalidad\n"
   ]
  },
  {
   "attachments": {},
   "cell_type": "markdown",
   "metadata": {},
   "source": [
    "### a) A parte de “tasa de interes” y “cantidad”, elige otras cuatro variables que creas que afectan el riesgo del evento"
   ]
  },
  {
   "cell_type": "code",
   "execution_count": 19,
   "metadata": {},
   "outputs": [
    {
     "data": {
      "text/html": [
       "<div>\n",
       "<style scoped>\n",
       "    .dataframe tbody tr th:only-of-type {\n",
       "        vertical-align: middle;\n",
       "    }\n",
       "\n",
       "    .dataframe tbody tr th {\n",
       "        vertical-align: top;\n",
       "    }\n",
       "\n",
       "    .dataframe thead th {\n",
       "        text-align: right;\n",
       "    }\n",
       "</style>\n",
       "<table border=\"1\" class=\"dataframe\">\n",
       "  <thead>\n",
       "    <tr style=\"text-align: right;\">\n",
       "      <th></th>\n",
       "      <th>saldo_cuenta</th>\n",
       "      <th>meses</th>\n",
       "      <th>historia_crediticia</th>\n",
       "      <th>uso</th>\n",
       "      <th>cantidad</th>\n",
       "      <th>saldo_cuenta_ahorro</th>\n",
       "      <th>años_trabajando</th>\n",
       "      <th>tasa_de_interes</th>\n",
       "      <th>genero_estado_civil</th>\n",
       "      <th>aval</th>\n",
       "      <th>...</th>\n",
       "      <th>activos</th>\n",
       "      <th>edad</th>\n",
       "      <th>planes_de_pago</th>\n",
       "      <th>casa</th>\n",
       "      <th>numero_creditos</th>\n",
       "      <th>situacion_laboral</th>\n",
       "      <th>dependientes_economicos</th>\n",
       "      <th>telefono</th>\n",
       "      <th>extranjero</th>\n",
       "      <th>credito_pagado</th>\n",
       "    </tr>\n",
       "  </thead>\n",
       "  <tbody>\n",
       "    <tr>\n",
       "      <th>0</th>\n",
       "      <td>menor_a_cero</td>\n",
       "      <td>6</td>\n",
       "      <td>no_ha_pagado</td>\n",
       "      <td>TV</td>\n",
       "      <td>1169</td>\n",
       "      <td>NaN</td>\n",
       "      <td>mas_de_7</td>\n",
       "      <td>4</td>\n",
       "      <td>hombre_soltero</td>\n",
       "      <td>NaN</td>\n",
       "      <td>...</td>\n",
       "      <td>bienes_raices</td>\n",
       "      <td>67</td>\n",
       "      <td>NaN</td>\n",
       "      <td>propia</td>\n",
       "      <td>2</td>\n",
       "      <td>gobierno</td>\n",
       "      <td>1</td>\n",
       "      <td>1</td>\n",
       "      <td>1</td>\n",
       "      <td>1</td>\n",
       "    </tr>\n",
       "    <tr>\n",
       "      <th>1</th>\n",
       "      <td>cero_a_200</td>\n",
       "      <td>48</td>\n",
       "      <td>pago_algun_credito</td>\n",
       "      <td>TV</td>\n",
       "      <td>5951</td>\n",
       "      <td>menor_100</td>\n",
       "      <td>1_a_4</td>\n",
       "      <td>2</td>\n",
       "      <td>mujer_no_soltera</td>\n",
       "      <td>NaN</td>\n",
       "      <td>...</td>\n",
       "      <td>bienes_raices</td>\n",
       "      <td>22</td>\n",
       "      <td>NaN</td>\n",
       "      <td>propia</td>\n",
       "      <td>1</td>\n",
       "      <td>gobierno</td>\n",
       "      <td>1</td>\n",
       "      <td>0</td>\n",
       "      <td>1</td>\n",
       "      <td>0</td>\n",
       "    </tr>\n",
       "    <tr>\n",
       "      <th>2</th>\n",
       "      <td>sin_cuenta</td>\n",
       "      <td>12</td>\n",
       "      <td>no_ha_pagado</td>\n",
       "      <td>colegiaturas</td>\n",
       "      <td>2096</td>\n",
       "      <td>menor_100</td>\n",
       "      <td>4_a_7</td>\n",
       "      <td>2</td>\n",
       "      <td>hombre_soltero</td>\n",
       "      <td>NaN</td>\n",
       "      <td>...</td>\n",
       "      <td>bienes_raices</td>\n",
       "      <td>49</td>\n",
       "      <td>NaN</td>\n",
       "      <td>propia</td>\n",
       "      <td>1</td>\n",
       "      <td>obrero</td>\n",
       "      <td>2</td>\n",
       "      <td>0</td>\n",
       "      <td>1</td>\n",
       "      <td>1</td>\n",
       "    </tr>\n",
       "    <tr>\n",
       "      <th>3</th>\n",
       "      <td>menor_a_cero</td>\n",
       "      <td>42</td>\n",
       "      <td>pago_algun_credito</td>\n",
       "      <td>mobiliario</td>\n",
       "      <td>7882</td>\n",
       "      <td>menor_100</td>\n",
       "      <td>4_a_7</td>\n",
       "      <td>2</td>\n",
       "      <td>hombre_soltero</td>\n",
       "      <td>aval</td>\n",
       "      <td>...</td>\n",
       "      <td>seguro_vida</td>\n",
       "      <td>45</td>\n",
       "      <td>NaN</td>\n",
       "      <td>prestada</td>\n",
       "      <td>1</td>\n",
       "      <td>gobierno</td>\n",
       "      <td>2</td>\n",
       "      <td>0</td>\n",
       "      <td>1</td>\n",
       "      <td>1</td>\n",
       "    </tr>\n",
       "    <tr>\n",
       "      <th>4</th>\n",
       "      <td>menor_a_cero</td>\n",
       "      <td>24</td>\n",
       "      <td>pago_retrasado</td>\n",
       "      <td>coche_nuevo</td>\n",
       "      <td>4870</td>\n",
       "      <td>menor_100</td>\n",
       "      <td>1_a_4</td>\n",
       "      <td>3</td>\n",
       "      <td>hombre_soltero</td>\n",
       "      <td>NaN</td>\n",
       "      <td>...</td>\n",
       "      <td>sin_activos</td>\n",
       "      <td>53</td>\n",
       "      <td>NaN</td>\n",
       "      <td>prestada</td>\n",
       "      <td>2</td>\n",
       "      <td>gobierno</td>\n",
       "      <td>2</td>\n",
       "      <td>0</td>\n",
       "      <td>1</td>\n",
       "      <td>0</td>\n",
       "    </tr>\n",
       "  </tbody>\n",
       "</table>\n",
       "<p>5 rows × 21 columns</p>\n",
       "</div>"
      ],
      "text/plain": [
       "   saldo_cuenta  meses historia_crediticia           uso  cantidad   \n",
       "0  menor_a_cero      6        no_ha_pagado            TV      1169  \\\n",
       "1    cero_a_200     48  pago_algun_credito            TV      5951   \n",
       "2    sin_cuenta     12        no_ha_pagado  colegiaturas      2096   \n",
       "3  menor_a_cero     42  pago_algun_credito    mobiliario      7882   \n",
       "4  menor_a_cero     24      pago_retrasado   coche_nuevo      4870   \n",
       "\n",
       "  saldo_cuenta_ahorro años_trabajando  tasa_de_interes genero_estado_civil   \n",
       "0                 NaN        mas_de_7                4      hombre_soltero  \\\n",
       "1           menor_100           1_a_4                2    mujer_no_soltera   \n",
       "2           menor_100           4_a_7                2      hombre_soltero   \n",
       "3           menor_100           4_a_7                2      hombre_soltero   \n",
       "4           menor_100           1_a_4                3      hombre_soltero   \n",
       "\n",
       "   aval  ...        activos edad  planes_de_pago      casa numero_creditos   \n",
       "0   NaN  ...  bienes_raices   67             NaN    propia               2  \\\n",
       "1   NaN  ...  bienes_raices   22             NaN    propia               1   \n",
       "2   NaN  ...  bienes_raices   49             NaN    propia               1   \n",
       "3  aval  ...    seguro_vida   45             NaN  prestada               1   \n",
       "4   NaN  ...    sin_activos   53             NaN  prestada               2   \n",
       "\n",
       "   situacion_laboral dependientes_economicos  telefono  extranjero   \n",
       "0           gobierno                       1         1           1  \\\n",
       "1           gobierno                       1         0           1   \n",
       "2             obrero                       2         0           1   \n",
       "3           gobierno                       2         0           1   \n",
       "4           gobierno                       2         0           1   \n",
       "\n",
       "   credito_pagado  \n",
       "0               1  \n",
       "1               0  \n",
       "2               1  \n",
       "3               1  \n",
       "4               0  \n",
       "\n",
       "[5 rows x 21 columns]"
      ]
     },
     "execution_count": 19,
     "metadata": {},
     "output_type": "execute_result"
    }
   ],
   "source": [
    "credit_risk.head()"
   ]
  },
  {
   "cell_type": "code",
   "execution_count": 20,
   "metadata": {},
   "outputs": [
    {
     "data": {
      "text/plain": [
       "saldo_cuenta                 0\n",
       "meses                        0\n",
       "historia_crediticia          0\n",
       "uso                          0\n",
       "cantidad                     0\n",
       "saldo_cuenta_ahorro        183\n",
       "años_trabajando              0\n",
       "tasa_de_interes              0\n",
       "genero_estado_civil          0\n",
       "aval                       948\n",
       "años_actual_domicilio        0\n",
       "activos                      0\n",
       "edad                         0\n",
       "planes_de_pago             814\n",
       "casa                         0\n",
       "numero_creditos              0\n",
       "situacion_laboral            0\n",
       "dependientes_economicos      0\n",
       "telefono                     0\n",
       "extranjero                   0\n",
       "credito_pagado               0\n",
       "dtype: int64"
      ]
     },
     "execution_count": 20,
     "metadata": {},
     "output_type": "execute_result"
    }
   ],
   "source": [
    "# Verificar los nulos en cada variable\n",
    "credit_risk.isnull().sum()"
   ]
  },
  {
   "attachments": {},
   "cell_type": "markdown",
   "metadata": {},
   "source": [
    "Elegí contemplar las siguientes variables: activos, edad, situacion_laboral, dependientes_economicos"
   ]
  },
  {
   "attachments": {},
   "cell_type": "markdown",
   "metadata": {},
   "source": [
    "### b) Di si cada una de las 6 variables que elegiste, aumentan/disminuyen el riesgo del evento y por qué\n"
   ]
  },
  {
   "attachments": {},
   "cell_type": "markdown",
   "metadata": {},
   "source": [
    "**Cantidad** Mientras mayor sea la cantidad a deber disminuye el riesgo de que el prestamo se pague completo\n",
    "\n",
    "**Tasa de interés** Mientras más alta es la tasa, menor el riesgo de que el prestamo se pague completo\n",
    "\n",
    "**Activos**Los clientes que poseen algun activo (seguro de vida, bienes raices u otro tipo) tienen mayor riesgo de pagar el prestamo completo que los que estan sin activos\n",
    "\n",
    "**Edad** Mientras mayor es la edad el riesgo de que el prestamo se pague completo aumenta\n",
    "\n",
    "**Situación Laboral** Los clientes que tiene situación laboral \"gobierno\", \"obrero\" o \"administrativo\", tienen más riesgo de que el prestamo se pague compelto que los \"desempleado\"\n",
    "\n",
    "**Dependientes economicos** Suponiendo que 1 = No tiene dependientes económicos, 2 = Tiene dependientes económicos. Los clientes que tienen dependientes economicos tienen menor riesgo de pagar el prestamo completo que los que no tienen"
   ]
  },
  {
   "attachments": {},
   "cell_type": "markdown",
   "metadata": {},
   "source": [
    "### c) Realiza las transformaciones adecuadas para utilizar las variables en un modelo de cox\n"
   ]
  },
  {
   "cell_type": "code",
   "execution_count": 22,
   "metadata": {},
   "outputs": [],
   "source": [
    "#Tomar solo las 6 variables a utilizar\n",
    "credit_risk = credit_risk[['meses', 'credito_pagado', 'cantidad', 'tasa_de_interes', 'activos','edad','situacion_laboral','dependientes_economicos']]"
   ]
  },
  {
   "cell_type": "code",
   "execution_count": 23,
   "metadata": {},
   "outputs": [],
   "source": [
    "#Hacer variable binaria\n",
    "#1 = Tiene dependientes economicos\n",
    "#0 = No tiene dependientes economicos\n",
    "credit_risk['dependientes_economicos'] = credit_risk['dependientes_economicos'] - 1"
   ]
  },
  {
   "cell_type": "code",
   "execution_count": 24,
   "metadata": {},
   "outputs": [
    {
     "data": {
      "text/plain": [
       "meses                      0\n",
       "credito_pagado             0\n",
       "cantidad                   0\n",
       "tasa_de_interes            0\n",
       "activos                    0\n",
       "edad                       0\n",
       "situacion_laboral          0\n",
       "dependientes_economicos    0\n",
       "dtype: int64"
      ]
     },
     "execution_count": 24,
     "metadata": {},
     "output_type": "execute_result"
    }
   ],
   "source": [
    "credit_risk.isnull().sum()"
   ]
  },
  {
   "attachments": {},
   "cell_type": "markdown",
   "metadata": {},
   "source": [
    "No hay nulos"
   ]
  },
  {
   "cell_type": "code",
   "execution_count": 25,
   "metadata": {},
   "outputs": [
    {
     "data": {
      "text/plain": [
       "0"
      ]
     },
     "execution_count": 25,
     "metadata": {},
     "output_type": "execute_result"
    }
   ],
   "source": [
    "credit_risk.duplicated().sum()"
   ]
  },
  {
   "attachments": {},
   "cell_type": "markdown",
   "metadata": {},
   "source": [
    "No hay duplicados"
   ]
  },
  {
   "cell_type": "code",
   "execution_count": 26,
   "metadata": {},
   "outputs": [
    {
     "data": {
      "text/plain": [
       "meses                       int64\n",
       "credito_pagado              int64\n",
       "cantidad                    int64\n",
       "tasa_de_interes             int64\n",
       "activos                    object\n",
       "edad                        int64\n",
       "situacion_laboral          object\n",
       "dependientes_economicos     int64\n",
       "dtype: object"
      ]
     },
     "execution_count": 26,
     "metadata": {},
     "output_type": "execute_result"
    }
   ],
   "source": [
    "credit_risk.dtypes"
   ]
  },
  {
   "cell_type": "code",
   "execution_count": 27,
   "metadata": {},
   "outputs": [
    {
     "data": {
      "text/html": [
       "<div>\n",
       "<style scoped>\n",
       "    .dataframe tbody tr th:only-of-type {\n",
       "        vertical-align: middle;\n",
       "    }\n",
       "\n",
       "    .dataframe tbody tr th {\n",
       "        vertical-align: top;\n",
       "    }\n",
       "\n",
       "    .dataframe thead th {\n",
       "        text-align: right;\n",
       "    }\n",
       "</style>\n",
       "<table border=\"1\" class=\"dataframe\">\n",
       "  <thead>\n",
       "    <tr style=\"text-align: right;\">\n",
       "      <th></th>\n",
       "      <th>activos_bienes_raices</th>\n",
       "      <th>activos_otro_tipo</th>\n",
       "      <th>activos_seguro_vida</th>\n",
       "      <th>activos_sin_activos</th>\n",
       "    </tr>\n",
       "  </thead>\n",
       "  <tbody>\n",
       "    <tr>\n",
       "      <th>0</th>\n",
       "      <td>1</td>\n",
       "      <td>0</td>\n",
       "      <td>0</td>\n",
       "      <td>0</td>\n",
       "    </tr>\n",
       "    <tr>\n",
       "      <th>1</th>\n",
       "      <td>1</td>\n",
       "      <td>0</td>\n",
       "      <td>0</td>\n",
       "      <td>0</td>\n",
       "    </tr>\n",
       "    <tr>\n",
       "      <th>2</th>\n",
       "      <td>1</td>\n",
       "      <td>0</td>\n",
       "      <td>0</td>\n",
       "      <td>0</td>\n",
       "    </tr>\n",
       "    <tr>\n",
       "      <th>3</th>\n",
       "      <td>0</td>\n",
       "      <td>0</td>\n",
       "      <td>1</td>\n",
       "      <td>0</td>\n",
       "    </tr>\n",
       "    <tr>\n",
       "      <th>4</th>\n",
       "      <td>0</td>\n",
       "      <td>0</td>\n",
       "      <td>0</td>\n",
       "      <td>1</td>\n",
       "    </tr>\n",
       "  </tbody>\n",
       "</table>\n",
       "</div>"
      ],
      "text/plain": [
       "   activos_bienes_raices  activos_otro_tipo  activos_seguro_vida   \n",
       "0                      1                  0                    0  \\\n",
       "1                      1                  0                    0   \n",
       "2                      1                  0                    0   \n",
       "3                      0                  0                    1   \n",
       "4                      0                  0                    0   \n",
       "\n",
       "   activos_sin_activos  \n",
       "0                    0  \n",
       "1                    0  \n",
       "2                    0  \n",
       "3                    0  \n",
       "4                    1  "
      ]
     },
     "execution_count": 27,
     "metadata": {},
     "output_type": "execute_result"
    }
   ],
   "source": [
    "## crear dummies para las variables categoricas\n",
    "# Dummies para la columna activos\n",
    "dummies_activo = pd.get_dummies(credit_risk['activos'], prefix='activos').astype('int64')\n",
    "dummies_activo.head()"
   ]
  },
  {
   "cell_type": "code",
   "execution_count": 28,
   "metadata": {},
   "outputs": [],
   "source": [
    "# Eliminamos la columna activo_sin_activo\n",
    "dummies_activo = dummies_activo[['activos_bienes_raices', 'activos_otro_tipo', 'activos_seguro_vida']]"
   ]
  },
  {
   "cell_type": "code",
   "execution_count": 29,
   "metadata": {},
   "outputs": [
    {
     "data": {
      "text/html": [
       "<div>\n",
       "<style scoped>\n",
       "    .dataframe tbody tr th:only-of-type {\n",
       "        vertical-align: middle;\n",
       "    }\n",
       "\n",
       "    .dataframe tbody tr th {\n",
       "        vertical-align: top;\n",
       "    }\n",
       "\n",
       "    .dataframe thead th {\n",
       "        text-align: right;\n",
       "    }\n",
       "</style>\n",
       "<table border=\"1\" class=\"dataframe\">\n",
       "  <thead>\n",
       "    <tr style=\"text-align: right;\">\n",
       "      <th></th>\n",
       "      <th>situacion_laboral_administrativo</th>\n",
       "      <th>situacion_laboral_desempleado</th>\n",
       "      <th>situacion_laboral_gobierno</th>\n",
       "      <th>situacion_laboral_obrero</th>\n",
       "    </tr>\n",
       "  </thead>\n",
       "  <tbody>\n",
       "    <tr>\n",
       "      <th>0</th>\n",
       "      <td>0</td>\n",
       "      <td>0</td>\n",
       "      <td>1</td>\n",
       "      <td>0</td>\n",
       "    </tr>\n",
       "    <tr>\n",
       "      <th>1</th>\n",
       "      <td>0</td>\n",
       "      <td>0</td>\n",
       "      <td>1</td>\n",
       "      <td>0</td>\n",
       "    </tr>\n",
       "    <tr>\n",
       "      <th>2</th>\n",
       "      <td>0</td>\n",
       "      <td>0</td>\n",
       "      <td>0</td>\n",
       "      <td>1</td>\n",
       "    </tr>\n",
       "    <tr>\n",
       "      <th>3</th>\n",
       "      <td>0</td>\n",
       "      <td>0</td>\n",
       "      <td>1</td>\n",
       "      <td>0</td>\n",
       "    </tr>\n",
       "    <tr>\n",
       "      <th>4</th>\n",
       "      <td>0</td>\n",
       "      <td>0</td>\n",
       "      <td>1</td>\n",
       "      <td>0</td>\n",
       "    </tr>\n",
       "  </tbody>\n",
       "</table>\n",
       "</div>"
      ],
      "text/plain": [
       "   situacion_laboral_administrativo  situacion_laboral_desempleado   \n",
       "0                                 0                              0  \\\n",
       "1                                 0                              0   \n",
       "2                                 0                              0   \n",
       "3                                 0                              0   \n",
       "4                                 0                              0   \n",
       "\n",
       "   situacion_laboral_gobierno  situacion_laboral_obrero  \n",
       "0                           1                         0  \n",
       "1                           1                         0  \n",
       "2                           0                         1  \n",
       "3                           1                         0  \n",
       "4                           1                         0  "
      ]
     },
     "execution_count": 29,
     "metadata": {},
     "output_type": "execute_result"
    }
   ],
   "source": [
    "# Dummies para la columna situacion laboral\n",
    "dummies_situacion = pd.get_dummies(credit_risk['situacion_laboral'], prefix='situacion_laboral').astype('int64')\n",
    "dummies_situacion.head()"
   ]
  },
  {
   "cell_type": "code",
   "execution_count": 30,
   "metadata": {},
   "outputs": [],
   "source": [
    "# Eliminamos la columna situacion_laboral_desempleado\n",
    "dummies_situacion = dummies_situacion[['situacion_laboral_administrativo', 'situacion_laboral_gobierno', 'situacion_laboral_obrero']]"
   ]
  },
  {
   "cell_type": "code",
   "execution_count": 31,
   "metadata": {},
   "outputs": [],
   "source": [
    "credit_risk = pd.concat([credit_risk, dummies_activo, dummies_situacion], axis=1)\n",
    "credit_risk = credit_risk.drop('activos', axis=1)\n",
    "credit_risk = credit_risk.drop('situacion_laboral', axis=1)\n"
   ]
  },
  {
   "cell_type": "code",
   "execution_count": 32,
   "metadata": {},
   "outputs": [
    {
     "data": {
      "text/html": [
       "<div>\n",
       "<style scoped>\n",
       "    .dataframe tbody tr th:only-of-type {\n",
       "        vertical-align: middle;\n",
       "    }\n",
       "\n",
       "    .dataframe tbody tr th {\n",
       "        vertical-align: top;\n",
       "    }\n",
       "\n",
       "    .dataframe thead th {\n",
       "        text-align: right;\n",
       "    }\n",
       "</style>\n",
       "<table border=\"1\" class=\"dataframe\">\n",
       "  <thead>\n",
       "    <tr style=\"text-align: right;\">\n",
       "      <th></th>\n",
       "      <th>meses</th>\n",
       "      <th>credito_pagado</th>\n",
       "      <th>cantidad</th>\n",
       "      <th>tasa_de_interes</th>\n",
       "      <th>edad</th>\n",
       "      <th>dependientes_economicos</th>\n",
       "      <th>activos_bienes_raices</th>\n",
       "      <th>activos_otro_tipo</th>\n",
       "      <th>activos_seguro_vida</th>\n",
       "      <th>situacion_laboral_administrativo</th>\n",
       "      <th>situacion_laboral_gobierno</th>\n",
       "      <th>situacion_laboral_obrero</th>\n",
       "    </tr>\n",
       "  </thead>\n",
       "  <tbody>\n",
       "    <tr>\n",
       "      <th>0</th>\n",
       "      <td>6</td>\n",
       "      <td>1</td>\n",
       "      <td>1169</td>\n",
       "      <td>4</td>\n",
       "      <td>67</td>\n",
       "      <td>0</td>\n",
       "      <td>1</td>\n",
       "      <td>0</td>\n",
       "      <td>0</td>\n",
       "      <td>0</td>\n",
       "      <td>1</td>\n",
       "      <td>0</td>\n",
       "    </tr>\n",
       "    <tr>\n",
       "      <th>1</th>\n",
       "      <td>48</td>\n",
       "      <td>0</td>\n",
       "      <td>5951</td>\n",
       "      <td>2</td>\n",
       "      <td>22</td>\n",
       "      <td>0</td>\n",
       "      <td>1</td>\n",
       "      <td>0</td>\n",
       "      <td>0</td>\n",
       "      <td>0</td>\n",
       "      <td>1</td>\n",
       "      <td>0</td>\n",
       "    </tr>\n",
       "    <tr>\n",
       "      <th>2</th>\n",
       "      <td>12</td>\n",
       "      <td>1</td>\n",
       "      <td>2096</td>\n",
       "      <td>2</td>\n",
       "      <td>49</td>\n",
       "      <td>1</td>\n",
       "      <td>1</td>\n",
       "      <td>0</td>\n",
       "      <td>0</td>\n",
       "      <td>0</td>\n",
       "      <td>0</td>\n",
       "      <td>1</td>\n",
       "    </tr>\n",
       "    <tr>\n",
       "      <th>3</th>\n",
       "      <td>42</td>\n",
       "      <td>1</td>\n",
       "      <td>7882</td>\n",
       "      <td>2</td>\n",
       "      <td>45</td>\n",
       "      <td>1</td>\n",
       "      <td>0</td>\n",
       "      <td>0</td>\n",
       "      <td>1</td>\n",
       "      <td>0</td>\n",
       "      <td>1</td>\n",
       "      <td>0</td>\n",
       "    </tr>\n",
       "    <tr>\n",
       "      <th>4</th>\n",
       "      <td>24</td>\n",
       "      <td>0</td>\n",
       "      <td>4870</td>\n",
       "      <td>3</td>\n",
       "      <td>53</td>\n",
       "      <td>1</td>\n",
       "      <td>0</td>\n",
       "      <td>0</td>\n",
       "      <td>0</td>\n",
       "      <td>0</td>\n",
       "      <td>1</td>\n",
       "      <td>0</td>\n",
       "    </tr>\n",
       "  </tbody>\n",
       "</table>\n",
       "</div>"
      ],
      "text/plain": [
       "   meses  credito_pagado  cantidad  tasa_de_interes  edad   \n",
       "0      6               1      1169                4    67  \\\n",
       "1     48               0      5951                2    22   \n",
       "2     12               1      2096                2    49   \n",
       "3     42               1      7882                2    45   \n",
       "4     24               0      4870                3    53   \n",
       "\n",
       "   dependientes_economicos  activos_bienes_raices  activos_otro_tipo   \n",
       "0                        0                      1                  0  \\\n",
       "1                        0                      1                  0   \n",
       "2                        1                      1                  0   \n",
       "3                        1                      0                  0   \n",
       "4                        1                      0                  0   \n",
       "\n",
       "   activos_seguro_vida  situacion_laboral_administrativo   \n",
       "0                    0                                 0  \\\n",
       "1                    0                                 0   \n",
       "2                    0                                 0   \n",
       "3                    1                                 0   \n",
       "4                    0                                 0   \n",
       "\n",
       "   situacion_laboral_gobierno  situacion_laboral_obrero  \n",
       "0                           1                         0  \n",
       "1                           1                         0  \n",
       "2                           0                         1  \n",
       "3                           1                         0  \n",
       "4                           1                         0  "
      ]
     },
     "execution_count": 32,
     "metadata": {},
     "output_type": "execute_result"
    }
   ],
   "source": [
    "credit_risk.head()"
   ]
  },
  {
   "attachments": {},
   "cell_type": "markdown",
   "metadata": {},
   "source": [
    "### d) Estima un modelo de cox con las variables elegidas e interpreta los coeficiente"
   ]
  },
  {
   "cell_type": "code",
   "execution_count": 33,
   "metadata": {},
   "outputs": [
    {
     "data": {
      "text/html": [
       "<div>\n",
       "<style scoped>\n",
       "    .dataframe tbody tr th:only-of-type {\n",
       "        vertical-align: middle;\n",
       "    }\n",
       "\n",
       "    .dataframe tbody tr th {\n",
       "        vertical-align: top;\n",
       "    }\n",
       "\n",
       "    .dataframe thead th {\n",
       "        text-align: right;\n",
       "    }\n",
       "</style>\n",
       "<table border=\"1\" class=\"dataframe\">\n",
       "  <tbody>\n",
       "    <tr>\n",
       "      <th>model</th>\n",
       "      <td>lifelines.CoxPHFitter</td>\n",
       "    </tr>\n",
       "    <tr>\n",
       "      <th>duration col</th>\n",
       "      <td>'meses'</td>\n",
       "    </tr>\n",
       "    <tr>\n",
       "      <th>event col</th>\n",
       "      <td>'credito_pagado'</td>\n",
       "    </tr>\n",
       "    <tr>\n",
       "      <th>baseline estimation</th>\n",
       "      <td>breslow</td>\n",
       "    </tr>\n",
       "    <tr>\n",
       "      <th>number of observations</th>\n",
       "      <td>1000</td>\n",
       "    </tr>\n",
       "    <tr>\n",
       "      <th>number of events observed</th>\n",
       "      <td>700</td>\n",
       "    </tr>\n",
       "    <tr>\n",
       "      <th>partial log-likelihood</th>\n",
       "      <td>-4042.98</td>\n",
       "    </tr>\n",
       "    <tr>\n",
       "      <th>time fit was run</th>\n",
       "      <td>2023-10-08 02:02:13 UTC</td>\n",
       "    </tr>\n",
       "  </tbody>\n",
       "</table>\n",
       "</div><table border=\"1\" class=\"dataframe\">\n",
       "  <thead>\n",
       "    <tr style=\"text-align: right;\">\n",
       "      <th style=\"min-width: 12px;\"></th>\n",
       "      <th style=\"min-width: 12px;\">coef</th>\n",
       "      <th style=\"min-width: 12px;\">exp(coef)</th>\n",
       "      <th style=\"min-width: 12px;\">se(coef)</th>\n",
       "      <th style=\"min-width: 12px;\">coef lower 95%</th>\n",
       "      <th style=\"min-width: 12px;\">coef upper 95%</th>\n",
       "      <th style=\"min-width: 12px;\">exp(coef) lower 95%</th>\n",
       "      <th style=\"min-width: 12px;\">exp(coef) upper 95%</th>\n",
       "      <th style=\"min-width: 12px;\">cmp to</th>\n",
       "      <th style=\"min-width: 12px;\">z</th>\n",
       "      <th style=\"min-width: 12px;\">p</th>\n",
       "      <th style=\"min-width: 12px;\">-log2(p)</th>\n",
       "    </tr>\n",
       "  </thead>\n",
       "  <tbody>\n",
       "    <tr>\n",
       "      <th>cantidad</th>\n",
       "      <td>-0.00</td>\n",
       "      <td>1.00</td>\n",
       "      <td>0.00</td>\n",
       "      <td>-0.00</td>\n",
       "      <td>-0.00</td>\n",
       "      <td>1.00</td>\n",
       "      <td>1.00</td>\n",
       "      <td>0.00</td>\n",
       "      <td>-15.29</td>\n",
       "      <td>&lt;0.005</td>\n",
       "      <td>172.86</td>\n",
       "    </tr>\n",
       "    <tr>\n",
       "      <th>tasa_de_interes</th>\n",
       "      <td>-0.41</td>\n",
       "      <td>0.67</td>\n",
       "      <td>0.04</td>\n",
       "      <td>-0.48</td>\n",
       "      <td>-0.33</td>\n",
       "      <td>0.62</td>\n",
       "      <td>0.72</td>\n",
       "      <td>0.00</td>\n",
       "      <td>-10.77</td>\n",
       "      <td>&lt;0.005</td>\n",
       "      <td>87.40</td>\n",
       "    </tr>\n",
       "    <tr>\n",
       "      <th>edad</th>\n",
       "      <td>0.02</td>\n",
       "      <td>1.02</td>\n",
       "      <td>0.00</td>\n",
       "      <td>0.01</td>\n",
       "      <td>0.02</td>\n",
       "      <td>1.01</td>\n",
       "      <td>1.02</td>\n",
       "      <td>0.00</td>\n",
       "      <td>4.85</td>\n",
       "      <td>&lt;0.005</td>\n",
       "      <td>19.62</td>\n",
       "    </tr>\n",
       "    <tr>\n",
       "      <th>dependientes_economicos</th>\n",
       "      <td>0.08</td>\n",
       "      <td>1.09</td>\n",
       "      <td>0.11</td>\n",
       "      <td>-0.12</td>\n",
       "      <td>0.29</td>\n",
       "      <td>0.88</td>\n",
       "      <td>1.34</td>\n",
       "      <td>0.00</td>\n",
       "      <td>0.79</td>\n",
       "      <td>0.43</td>\n",
       "      <td>1.22</td>\n",
       "    </tr>\n",
       "    <tr>\n",
       "      <th>activos_bienes_raices</th>\n",
       "      <td>0.59</td>\n",
       "      <td>1.81</td>\n",
       "      <td>0.14</td>\n",
       "      <td>0.33</td>\n",
       "      <td>0.86</td>\n",
       "      <td>1.38</td>\n",
       "      <td>2.37</td>\n",
       "      <td>0.00</td>\n",
       "      <td>4.33</td>\n",
       "      <td>&lt;0.005</td>\n",
       "      <td>16.02</td>\n",
       "    </tr>\n",
       "    <tr>\n",
       "      <th>activos_otro_tipo</th>\n",
       "      <td>0.27</td>\n",
       "      <td>1.32</td>\n",
       "      <td>0.13</td>\n",
       "      <td>0.02</td>\n",
       "      <td>0.53</td>\n",
       "      <td>1.02</td>\n",
       "      <td>1.71</td>\n",
       "      <td>0.00</td>\n",
       "      <td>2.08</td>\n",
       "      <td>0.04</td>\n",
       "      <td>4.73</td>\n",
       "    </tr>\n",
       "    <tr>\n",
       "      <th>activos_seguro_vida</th>\n",
       "      <td>0.37</td>\n",
       "      <td>1.45</td>\n",
       "      <td>0.14</td>\n",
       "      <td>0.09</td>\n",
       "      <td>0.65</td>\n",
       "      <td>1.10</td>\n",
       "      <td>1.91</td>\n",
       "      <td>0.00</td>\n",
       "      <td>2.63</td>\n",
       "      <td>0.01</td>\n",
       "      <td>6.87</td>\n",
       "    </tr>\n",
       "    <tr>\n",
       "      <th>situacion_laboral_administrativo</th>\n",
       "      <td>0.48</td>\n",
       "      <td>1.62</td>\n",
       "      <td>0.29</td>\n",
       "      <td>-0.08</td>\n",
       "      <td>1.04</td>\n",
       "      <td>0.92</td>\n",
       "      <td>2.83</td>\n",
       "      <td>0.00</td>\n",
       "      <td>1.69</td>\n",
       "      <td>0.09</td>\n",
       "      <td>3.44</td>\n",
       "    </tr>\n",
       "    <tr>\n",
       "      <th>situacion_laboral_gobierno</th>\n",
       "      <td>0.20</td>\n",
       "      <td>1.22</td>\n",
       "      <td>0.27</td>\n",
       "      <td>-0.33</td>\n",
       "      <td>0.73</td>\n",
       "      <td>0.72</td>\n",
       "      <td>2.08</td>\n",
       "      <td>0.00</td>\n",
       "      <td>0.73</td>\n",
       "      <td>0.46</td>\n",
       "      <td>1.11</td>\n",
       "    </tr>\n",
       "    <tr>\n",
       "      <th>situacion_laboral_obrero</th>\n",
       "      <td>0.36</td>\n",
       "      <td>1.43</td>\n",
       "      <td>0.28</td>\n",
       "      <td>-0.19</td>\n",
       "      <td>0.91</td>\n",
       "      <td>0.83</td>\n",
       "      <td>2.48</td>\n",
       "      <td>0.00</td>\n",
       "      <td>1.28</td>\n",
       "      <td>0.20</td>\n",
       "      <td>2.32</td>\n",
       "    </tr>\n",
       "  </tbody>\n",
       "</table><br><div>\n",
       "<style scoped>\n",
       "    .dataframe tbody tr th:only-of-type {\n",
       "        vertical-align: middle;\n",
       "    }\n",
       "\n",
       "    .dataframe tbody tr th {\n",
       "        vertical-align: top;\n",
       "    }\n",
       "\n",
       "    .dataframe thead th {\n",
       "        text-align: right;\n",
       "    }\n",
       "</style>\n",
       "<table border=\"1\" class=\"dataframe\">\n",
       "  <tbody>\n",
       "    <tr>\n",
       "      <th>Concordance</th>\n",
       "      <td>0.78</td>\n",
       "    </tr>\n",
       "    <tr>\n",
       "      <th>Partial AIC</th>\n",
       "      <td>8105.96</td>\n",
       "    </tr>\n",
       "    <tr>\n",
       "      <th>log-likelihood ratio test</th>\n",
       "      <td>452.81 on 10 df</td>\n",
       "    </tr>\n",
       "    <tr>\n",
       "      <th>-log2(p) of ll-ratio test</th>\n",
       "      <td>299.90</td>\n",
       "    </tr>\n",
       "  </tbody>\n",
       "</table>\n",
       "</div>"
      ],
      "text/latex": [
       "\\begin{tabular}{lrrrrrrrrrrr}\n",
       " & coef & exp(coef) & se(coef) & coef lower 95% & coef upper 95% & exp(coef) lower 95% & exp(coef) upper 95% & cmp to & z & p & -log2(p) \\\\\n",
       "covariate &  &  &  &  &  &  &  &  &  &  &  \\\\\n",
       "cantidad & -0.00 & 1.00 & 0.00 & -0.00 & -0.00 & 1.00 & 1.00 & 0.00 & -15.29 & 0.00 & 172.86 \\\\\n",
       "tasa_de_interes & -0.41 & 0.67 & 0.04 & -0.48 & -0.33 & 0.62 & 0.72 & 0.00 & -10.77 & 0.00 & 87.40 \\\\\n",
       "edad & 0.02 & 1.02 & 0.00 & 0.01 & 0.02 & 1.01 & 1.02 & 0.00 & 4.85 & 0.00 & 19.62 \\\\\n",
       "dependientes_economicos & 0.08 & 1.09 & 0.11 & -0.12 & 0.29 & 0.88 & 1.34 & 0.00 & 0.79 & 0.43 & 1.22 \\\\\n",
       "activos_bienes_raices & 0.59 & 1.81 & 0.14 & 0.33 & 0.86 & 1.38 & 2.37 & 0.00 & 4.33 & 0.00 & 16.02 \\\\\n",
       "activos_otro_tipo & 0.27 & 1.32 & 0.13 & 0.02 & 0.53 & 1.02 & 1.71 & 0.00 & 2.08 & 0.04 & 4.73 \\\\\n",
       "activos_seguro_vida & 0.37 & 1.45 & 0.14 & 0.09 & 0.65 & 1.10 & 1.91 & 0.00 & 2.63 & 0.01 & 6.87 \\\\\n",
       "situacion_laboral_administrativo & 0.48 & 1.62 & 0.29 & -0.08 & 1.04 & 0.92 & 2.83 & 0.00 & 1.69 & 0.09 & 3.44 \\\\\n",
       "situacion_laboral_gobierno & 0.20 & 1.22 & 0.27 & -0.33 & 0.73 & 0.72 & 2.08 & 0.00 & 0.73 & 0.46 & 1.11 \\\\\n",
       "situacion_laboral_obrero & 0.36 & 1.43 & 0.28 & -0.19 & 0.91 & 0.83 & 2.48 & 0.00 & 1.28 & 0.20 & 2.32 \\\\\n",
       "\\end{tabular}\n"
      ],
      "text/plain": [
       "<lifelines.CoxPHFitter: fitted with 1000 total observations, 300 right-censored observations>\n",
       "             duration col = 'meses'\n",
       "                event col = 'credito_pagado'\n",
       "      baseline estimation = breslow\n",
       "   number of observations = 1000\n",
       "number of events observed = 700\n",
       "   partial log-likelihood = -4042.98\n",
       "         time fit was run = 2023-10-08 02:02:13 UTC\n",
       "\n",
       "---\n",
       "                                   coef  exp(coef)   se(coef)   coef lower 95%   coef upper 95%  exp(coef) lower 95%  exp(coef) upper 95%\n",
       "covariate                                                                                                                                \n",
       "cantidad                          -0.00       1.00       0.00            -0.00            -0.00                 1.00                 1.00\n",
       "tasa_de_interes                   -0.41       0.67       0.04            -0.48            -0.33                 0.62                 0.72\n",
       "edad                               0.02       1.02       0.00             0.01             0.02                 1.01                 1.02\n",
       "dependientes_economicos            0.08       1.09       0.11            -0.12             0.29                 0.88                 1.34\n",
       "activos_bienes_raices              0.59       1.81       0.14             0.33             0.86                 1.38                 2.37\n",
       "activos_otro_tipo                  0.27       1.32       0.13             0.02             0.53                 1.02                 1.71\n",
       "activos_seguro_vida                0.37       1.45       0.14             0.09             0.65                 1.10                 1.91\n",
       "situacion_laboral_administrativo   0.48       1.62       0.29            -0.08             1.04                 0.92                 2.83\n",
       "situacion_laboral_gobierno         0.20       1.22       0.27            -0.33             0.73                 0.72                 2.08\n",
       "situacion_laboral_obrero           0.36       1.43       0.28            -0.19             0.91                 0.83                 2.48\n",
       "\n",
       "                                   cmp to      z      p   -log2(p)\n",
       "covariate                                                         \n",
       "cantidad                             0.00 -15.29 <0.005     172.86\n",
       "tasa_de_interes                      0.00 -10.77 <0.005      87.40\n",
       "edad                                 0.00   4.85 <0.005      19.62\n",
       "dependientes_economicos              0.00   0.79   0.43       1.22\n",
       "activos_bienes_raices                0.00   4.33 <0.005      16.02\n",
       "activos_otro_tipo                    0.00   2.08   0.04       4.73\n",
       "activos_seguro_vida                  0.00   2.63   0.01       6.87\n",
       "situacion_laboral_administrativo     0.00   1.69   0.09       3.44\n",
       "situacion_laboral_gobierno           0.00   0.73   0.46       1.11\n",
       "situacion_laboral_obrero             0.00   1.28   0.20       2.32\n",
       "---\n",
       "Concordance = 0.78\n",
       "Partial AIC = 8105.96\n",
       "log-likelihood ratio test = 452.81 on 10 df\n",
       "-log2(p) of ll-ratio test = 299.90"
      ]
     },
     "metadata": {},
     "output_type": "display_data"
    }
   ],
   "source": [
    "cph = CoxPHFitter().fit(credit_risk,'meses','credito_pagado')\n",
    "cph.print_summary()"
   ]
  },
  {
   "cell_type": "code",
   "execution_count": 34,
   "metadata": {},
   "outputs": [
    {
     "data": {
      "text/plain": [
       "covariate\n",
       "cantidad                           -0.000370\n",
       "tasa_de_interes                    -0.405225\n",
       "edad                                0.016488\n",
       "dependientes_economicos             0.084405\n",
       "activos_bienes_raices               0.594425\n",
       "activos_otro_tipo                   0.274671\n",
       "activos_seguro_vida                 0.370368\n",
       "situacion_laboral_administrativo    0.481515\n",
       "situacion_laboral_gobierno          0.198619\n",
       "situacion_laboral_obrero            0.359408\n",
       "Name: coef, dtype: float64"
      ]
     },
     "execution_count": 34,
     "metadata": {},
     "output_type": "execute_result"
    }
   ],
   "source": [
    "cph.params_"
   ]
  },
  {
   "cell_type": "code",
   "execution_count": 35,
   "metadata": {},
   "outputs": [
    {
     "data": {
      "text/plain": [
       "covariate\n",
       "cantidad                            0.999630\n",
       "tasa_de_interes                     0.666827\n",
       "edad                                1.016625\n",
       "dependientes_economicos             1.088070\n",
       "activos_bienes_raices               1.811990\n",
       "activos_otro_tipo                   1.316097\n",
       "activos_seguro_vida                 1.448267\n",
       "situacion_laboral_administrativo    1.618525\n",
       "situacion_laboral_gobierno          1.219717\n",
       "situacion_laboral_obrero            1.432481\n",
       "Name: exp(coef), dtype: float64"
      ]
     },
     "execution_count": 35,
     "metadata": {},
     "output_type": "execute_result"
    }
   ],
   "source": [
    "cph.hazard_ratios_"
   ]
  },
  {
   "attachments": {},
   "cell_type": "markdown",
   "metadata": {},
   "source": [
    "**Dependientes economicos, Situacion laboral Administrativo, Situacion laboral Gobierno, Situacion laboral Obrero** Su $P-Value > 0.05 = \\alpha$ por lo que **NO** se rechaza $H_0$, esto quiere decir que ninguna de esas variables tiene efecto en el riesgo de que se pague el prestamo completo\n",
    "\n",
    "**Cantidad** Como el P-Value es menor a $\\alpha = 0.05$ entonces se rechaza $H_0$. Mientras mayor es la cantidad del monto del prestamo el riesgo de que se pague el prestamo completo disminuye en un 0.037% \n",
    "\n",
    "**tasa_de_interes** Como el P-Value es menor a $\\alpha = 0.05$ entonces se rechaza $H_0$. Mientras mayor es la tasa de interés del prestamo el riesgo de que se pague el prestamo completo disminuye en un 0.33% \n",
    "\n",
    "**edad** Como el P-Value es menor a $\\alpha = 0.05$ entonces se rechaza $H_0$. Por cada año más de edad que tenga el cliente, el riesgo de que se pague el prestamo completo aumenta en un 2%\n",
    "\n",
    "**activos_bienes_raices** Como el P-Value es menor a $\\alpha = 0.05$ entonces se rechaza $H_0$. Los clientes que tienen bienes raices como activos tienen mayor riesgo, un 81% más riesgo, de pagar el prestamo completo que los que no tienen activos\n",
    "\n",
    "**activos_otro_tipo** Como el P-Value es menor a $\\alpha = 0.05$ entonces se rechaza $H_0$. Los clientes que tienen otro tipo de activos tienen mayor riesgo, un 32% más riesgo, de pagar el prestamo completo que los que no tienen activos\n",
    "\n",
    "**activos_seguro_vida** Como el P-Value es menor a $\\alpha = 0.05$ entonces se rechaza $H_0$. Los clientes que tienen seguro de vida como activos tienen mayor riesgo, un 45% más riesgo, de pagar el prestamo completo que los que no tienen activos\n",
    "\n"
   ]
  },
  {
   "cell_type": "markdown",
   "metadata": {},
   "source": [
    "## 5. Conclusión"
   ]
  },
  {
   "cell_type": "markdown",
   "metadata": {},
   "source": [
    "Se realizó un análisis sobre los créditos otorgados a los clientes del Banco de la Ilusión. El análisis se realizó de una base de datos que cuenta con 1000 entradas y 21 diferentes variables, entre las cuales destacan “meses”, “crédito_pagado” y “cantidad”, que nos indican el tiempo en meses que se tarda en pagar el crédito, si el crédito se pago en su totalidad y la cantidad total prestada, respectivamente. \n",
    "\n",
    "En el primer análisis exploratorio pudimos observar que en promedio se prestan 3,271.26 euros a los clientes en general, pero el monto prestado promedio para los clientes que si pagaron el préstamo en su totalidad es de 2985.46 euros, lo cual esta por debajo de la media general, esto podría indicar que mientras menor sea el monto más probable es que se pague completo\n",
    "Por otro lado, la tasa de interés promedio general es de 2.92%, mientras que la tasa de interés promedio de los que no han pagado su préstamo completo es de 3.1%, mayor que la media general, esto puede indicar que mientras más alta es la tasa de interés menor es la probabilidad de que se pague completo el préstamo.\n",
    "\n",
    "Una vez realizado el análisis exploratorio se seleccionan 6 variables para analizar su relevancia en el riesgo de que el préstamo se pague por completo. Las variables que se cree que incrementaran el riesgo o probabilidad de que el préstamo se pague completo son: activos, edad y situación laboral (donde sus valores no sean “desempleado”)\n",
    "Los que se espera que disminuyan el riesgo de que el préstamo se pague completo son: tasa de interés, cantidad y dependientes económicos.\n",
    "\n",
    "Después de realizar el modelo de Cox pudimos confirmar que las variables “edad” y “activos” se comportaron como en nuestra hipótesis, los clientes de mayor edad y los clientes que tienen algún activo tienen mayor probabilidad de pagar el crédito completo por lo que se recomendaría autorizar más créditos a las personas que cumplan estas características.\n",
    "\n",
    "Por otro lado, mientras mayor sean la cantidad prestada y la tasa de interés, menor es la probabilidad de que el préstamo se pague completo, por lo que se sugiere al banco disminuirlas o tener mayor cuidado al momento de autorizar cantidades grandes.\n",
    "\n",
    "El resto de las variables no afectan al riesgo de que los prestamos se paguen completos por lo que se puede ignorar.\n"
   ]
  }
 ],
 "metadata": {
  "kernelspec": {
   "display_name": "Python 3",
   "language": "python",
   "name": "python3"
  },
  "language_info": {
   "codemirror_mode": {
    "name": "ipython",
    "version": 3
   },
   "file_extension": ".py",
   "mimetype": "text/x-python",
   "name": "python",
   "nbconvert_exporter": "python",
   "pygments_lexer": "ipython3",
   "version": "3.11.6"
  },
  "orig_nbformat": 4
 },
 "nbformat": 4,
 "nbformat_minor": 2
}
