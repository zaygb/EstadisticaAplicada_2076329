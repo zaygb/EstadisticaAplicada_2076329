{
 "cells": [
  {
   "attachments": {},
   "cell_type": "markdown",
   "metadata": {},
   "source": [
    "## Estadística Aplicada\n",
    "Sesión 2 - 10 Agosto\n",
    "\n",
    "Cinthia Zaydé García Belmonte 2076329\n"
   ]
  },
  {
   "attachments": {},
   "cell_type": "markdown",
   "metadata": {},
   "source": [
    "Una lista en Python es una colección de objetos que pueden ser de distinto tipo"
   ]
  },
  {
   "cell_type": "code",
   "execution_count": 14,
   "metadata": {},
   "outputs": [
    {
     "data": {
      "text/plain": [
       "list"
      ]
     },
     "execution_count": 14,
     "metadata": {},
     "output_type": "execute_result"
    }
   ],
   "source": [
    "alumno = [ 'Zaydé', 'García', 22]\n",
    "alumno\n",
    "type(alumno)"
   ]
  },
  {
   "cell_type": "code",
   "execution_count": 17,
   "metadata": {},
   "outputs": [],
   "source": [
    "estadistica_G44 = ['Andrea', 'Ana', 'Carlos', 'Hugo']"
   ]
  },
  {
   "cell_type": "code",
   "execution_count": 18,
   "metadata": {},
   "outputs": [
    {
     "data": {
      "text/plain": [
       "'Ana'"
      ]
     },
     "execution_count": 18,
     "metadata": {},
     "output_type": "execute_result"
    }
   ],
   "source": [
    "#Seleccionar Ana de la lista\n",
    "estadistica_G44[1]"
   ]
  },
  {
   "cell_type": "code",
   "execution_count": 19,
   "metadata": {},
   "outputs": [
    {
     "data": {
      "text/plain": [
       "'Carlos'"
      ]
     },
     "execution_count": 19,
     "metadata": {},
     "output_type": "execute_result"
    }
   ],
   "source": [
    "#Elegir a Carlos\n",
    "estadistica_G44[2]"
   ]
  },
  {
   "cell_type": "code",
   "execution_count": 20,
   "metadata": {},
   "outputs": [
    {
     "data": {
      "text/plain": [
       "['Andrea', 'Ana']"
      ]
     },
     "execution_count": 20,
     "metadata": {},
     "output_type": "execute_result"
    }
   ],
   "source": [
    "estadistica_G44[0:2]"
   ]
  },
  {
   "cell_type": "code",
   "execution_count": 21,
   "metadata": {},
   "outputs": [],
   "source": [
    "estadistica_G44.append('Raúl')"
   ]
  },
  {
   "cell_type": "code",
   "execution_count": 22,
   "metadata": {},
   "outputs": [
    {
     "data": {
      "text/plain": [
       "['Andrea', 'Ana', 'Carlos', 'Hugo', 'Raúl']"
      ]
     },
     "execution_count": 22,
     "metadata": {},
     "output_type": "execute_result"
    }
   ],
   "source": [
    "estadistica_G44"
   ]
  },
  {
   "cell_type": "code",
   "execution_count": 51,
   "metadata": {},
   "outputs": [],
   "source": [
    "estadistica_G44.remove('Hugo')"
   ]
  },
  {
   "cell_type": "code",
   "execution_count": 52,
   "metadata": {},
   "outputs": [
    {
     "data": {
      "text/plain": [
       "['Andrea', 'Ana', 'Carlos', 'Raúl']"
      ]
     },
     "execution_count": 52,
     "metadata": {},
     "output_type": "execute_result"
    }
   ],
   "source": [
    "estadistica_G44"
   ]
  },
  {
   "cell_type": "code",
   "execution_count": 2,
   "metadata": {},
   "outputs": [],
   "source": [
    "yo_enFCFM = ['Zaydé', 'LA', 89]"
   ]
  },
  {
   "cell_type": "code",
   "execution_count": 3,
   "metadata": {},
   "outputs": [],
   "source": [
    "mi_promedio = yo_enFCFM[2]\n",
    "mi_carrera = yo_enFCFM[1]"
   ]
  },
  {
   "cell_type": "code",
   "execution_count": 4,
   "metadata": {},
   "outputs": [
    {
     "name": "stdout",
     "output_type": "stream",
     "text": [
      "promedio: 89 mi carrera: LA\n"
     ]
    }
   ],
   "source": [
    "print('promedio:', mi_promedio, 'mi carrera:', mi_carrera)"
   ]
  },
  {
   "attachments": {},
   "cell_type": "markdown",
   "metadata": {},
   "source": [
    "## Librerias/paquetes/modulos\n",
    "Una libreria en python es un conunto de codigos que le indican a python como hacer determinadas acciones"
   ]
  },
  {
   "attachments": {},
   "cell_type": "markdown",
   "metadata": {},
   "source": [
    "para usar una libreria:\n",
    "1. primero se instala\n",
    "2. se le indica a python que la utilice"
   ]
  },
  {
   "cell_type": "code",
   "execution_count": 5,
   "metadata": {},
   "outputs": [
    {
     "name": "stdout",
     "output_type": "stream",
     "text": [
      "Collecting yfinance\n",
      "  Downloading yfinance-0.2.27-py2.py3-none-any.whl (63 kB)\n",
      "                                              0.0/63.2 kB ? eta -:--:--\n",
      "     -------------------------                41.0/63.2 kB 1.9 MB/s eta 0:00:01\n",
      "     -------------------------------------- 63.2/63.2 kB 678.6 kB/s eta 0:00:00\n",
      "Collecting pandas>=1.3.0 (from yfinance)\n",
      "  Downloading pandas-2.0.3-cp310-cp310-win_amd64.whl (10.7 MB)\n",
      "                                              0.0/10.7 MB ? eta -:--:--\n",
      "                                              0.1/10.7 MB 2.6 MB/s eta 0:00:05\n",
      "     -                                        0.3/10.7 MB 3.4 MB/s eta 0:00:04\n",
      "     -                                        0.5/10.7 MB 3.9 MB/s eta 0:00:03\n",
      "     ---                                      0.8/10.7 MB 4.8 MB/s eta 0:00:03\n",
      "     ----                                     1.1/10.7 MB 4.7 MB/s eta 0:00:03\n",
      "     -----                                    1.5/10.7 MB 5.2 MB/s eta 0:00:02\n",
      "     -------                                  2.1/10.7 MB 6.2 MB/s eta 0:00:02\n",
      "     ---------                                2.6/10.7 MB 7.0 MB/s eta 0:00:02\n",
      "     ----------                               2.9/10.7 MB 6.9 MB/s eta 0:00:02\n",
      "     ------------                             3.3/10.7 MB 7.0 MB/s eta 0:00:02\n",
      "     --------------                           3.8/10.7 MB 7.4 MB/s eta 0:00:01\n",
      "     ----------------                         4.4/10.7 MB 7.8 MB/s eta 0:00:01\n",
      "     ------------------                       5.0/10.7 MB 8.2 MB/s eta 0:00:01\n",
      "     --------------------                     5.5/10.7 MB 8.4 MB/s eta 0:00:01\n",
      "     ----------------------                   6.0/10.7 MB 8.6 MB/s eta 0:00:01\n",
      "     ------------------------                 6.5/10.7 MB 8.6 MB/s eta 0:00:01\n",
      "     -------------------------                6.8/10.7 MB 8.5 MB/s eta 0:00:01\n",
      "     --------------------------               7.2/10.7 MB 8.5 MB/s eta 0:00:01\n",
      "     ---------------------------              7.4/10.7 MB 8.3 MB/s eta 0:00:01\n",
      "     -----------------------------            7.8/10.7 MB 8.3 MB/s eta 0:00:01\n",
      "     ------------------------------           8.1/10.7 MB 8.2 MB/s eta 0:00:01\n",
      "     -------------------------------          8.4/10.7 MB 8.1 MB/s eta 0:00:01\n",
      "     --------------------------------         8.7/10.7 MB 8.1 MB/s eta 0:00:01\n",
      "     ---------------------------------        9.0/10.7 MB 8.0 MB/s eta 0:00:01\n",
      "     -----------------------------------      9.3/10.7 MB 7.9 MB/s eta 0:00:01\n",
      "     ------------------------------------     9.6/10.7 MB 7.9 MB/s eta 0:00:01\n",
      "     -------------------------------------    10.0/10.7 MB 7.9 MB/s eta 0:00:01\n",
      "     --------------------------------------   10.3/10.7 MB 7.8 MB/s eta 0:00:01\n",
      "     ---------------------------------------  10.6/10.7 MB 8.1 MB/s eta 0:00:01\n",
      "     ---------------------------------------  10.7/10.7 MB 8.0 MB/s eta 0:00:01\n",
      "     ---------------------------------------  10.7/10.7 MB 8.0 MB/s eta 0:00:01\n",
      "     ---------------------------------------  10.7/10.7 MB 8.0 MB/s eta 0:00:01\n",
      "     ---------------------------------------- 10.7/10.7 MB 7.1 MB/s eta 0:00:00\n",
      "Collecting numpy>=1.16.5 (from yfinance)\n",
      "  Downloading numpy-1.25.2-cp310-cp310-win_amd64.whl (15.6 MB)\n",
      "                                              0.0/15.6 MB ? eta -:--:--\n",
      "     -                                        0.7/15.6 MB 14.6 MB/s eta 0:00:02\n",
      "     ---                                      1.3/15.6 MB 13.4 MB/s eta 0:00:02\n",
      "     -----                                    2.0/15.6 MB 12.9 MB/s eta 0:00:02\n",
      "     ------                                   2.6/15.6 MB 12.8 MB/s eta 0:00:02\n",
      "     --------                                 3.3/15.6 MB 12.4 MB/s eta 0:00:01\n",
      "     ----------                               3.9/15.6 MB 12.5 MB/s eta 0:00:01\n",
      "     -----------                              4.5/15.6 MB 12.4 MB/s eta 0:00:01\n",
      "     ------------                             5.0/15.6 MB 12.4 MB/s eta 0:00:01\n",
      "     --------------                           5.6/15.6 MB 12.3 MB/s eta 0:00:01\n",
      "     ---------------                          6.1/15.6 MB 12.1 MB/s eta 0:00:01\n",
      "     -----------------                        6.6/15.6 MB 12.1 MB/s eta 0:00:01\n",
      "     ------------------                       7.2/15.6 MB 11.9 MB/s eta 0:00:01\n",
      "     -------------------                      7.7/15.6 MB 11.8 MB/s eta 0:00:01\n",
      "     ---------------------                    8.3/15.6 MB 11.8 MB/s eta 0:00:01\n",
      "     ----------------------                   8.8/15.6 MB 11.8 MB/s eta 0:00:01\n",
      "     ------------------------                 9.4/15.6 MB 11.7 MB/s eta 0:00:01\n",
      "     -------------------------                9.9/15.6 MB 11.7 MB/s eta 0:00:01\n",
      "     --------------------------              10.5/15.6 MB 11.5 MB/s eta 0:00:01\n",
      "     ---------------------------             11.0/15.6 MB 11.3 MB/s eta 0:00:01\n",
      "     ----------------------------            11.5/15.6 MB 11.3 MB/s eta 0:00:01\n",
      "     -----------------------------           11.9/15.6 MB 11.1 MB/s eta 0:00:01\n",
      "     -------------------------------         12.4/15.6 MB 11.1 MB/s eta 0:00:01\n",
      "     --------------------------------        13.0/15.6 MB 11.1 MB/s eta 0:00:01\n",
      "     ---------------------------------       13.5/15.6 MB 11.1 MB/s eta 0:00:01\n",
      "     ----------------------------------      13.8/15.6 MB 10.7 MB/s eta 0:00:01\n",
      "     -----------------------------------     14.1/15.6 MB 10.6 MB/s eta 0:00:01\n",
      "     -----------------------------------     14.4/15.6 MB 10.4 MB/s eta 0:00:01\n",
      "     ------------------------------------    14.6/15.6 MB 10.1 MB/s eta 0:00:01\n",
      "     --------------------------------------   14.9/15.6 MB 9.9 MB/s eta 0:00:01\n",
      "     ---------------------------------------  15.2/15.6 MB 9.6 MB/s eta 0:00:01\n",
      "     ---------------------------------------  15.4/15.6 MB 9.4 MB/s eta 0:00:01\n",
      "     ---------------------------------------  15.6/15.6 MB 9.2 MB/s eta 0:00:01\n",
      "     ---------------------------------------  15.6/15.6 MB 9.2 MB/s eta 0:00:01\n",
      "     ---------------------------------------  15.6/15.6 MB 9.2 MB/s eta 0:00:01\n",
      "     ---------------------------------------  15.6/15.6 MB 9.2 MB/s eta 0:00:01\n",
      "     ---------------------------------------- 15.6/15.6 MB 7.7 MB/s eta 0:00:00\n",
      "Collecting requests>=2.31 (from yfinance)\n",
      "  Downloading requests-2.31.0-py3-none-any.whl (62 kB)\n",
      "                                              0.0/62.6 kB ? eta -:--:--\n",
      "     ---------------------------------------- 62.6/62.6 kB 1.1 MB/s eta 0:00:00\n",
      "Collecting multitasking>=0.0.7 (from yfinance)\n",
      "  Downloading multitasking-0.0.11-py3-none-any.whl (8.5 kB)\n",
      "Collecting lxml>=4.9.1 (from yfinance)\n",
      "  Downloading lxml-4.9.3-cp310-cp310-win_amd64.whl (3.8 MB)\n",
      "                                              0.0/3.8 MB ? eta -:--:--\n",
      "     -----                                    0.5/3.8 MB 11.1 MB/s eta 0:00:01\n",
      "     ----------                               1.0/3.8 MB 10.8 MB/s eta 0:00:01\n",
      "     ---------------                          1.4/3.8 MB 10.1 MB/s eta 0:00:01\n",
      "     ------------------                       1.8/3.8 MB 8.7 MB/s eta 0:00:01\n",
      "     ---------------------                    2.0/3.8 MB 8.5 MB/s eta 0:00:01\n",
      "     ------------------------                 2.3/3.8 MB 8.1 MB/s eta 0:00:01\n",
      "     --------------------------               2.5/3.8 MB 7.7 MB/s eta 0:00:01\n",
      "     ----------------------------             2.7/3.8 MB 7.2 MB/s eta 0:00:01\n",
      "     -------------------------------          2.9/3.8 MB 7.0 MB/s eta 0:00:01\n",
      "     ---------------------------------        3.2/3.8 MB 6.8 MB/s eta 0:00:01\n",
      "     -------------------------------------    3.5/3.8 MB 6.6 MB/s eta 0:00:01\n",
      "     ---------------------------------------  3.7/3.8 MB 6.4 MB/s eta 0:00:01\n",
      "     ---------------------------------------  3.8/3.8 MB 6.4 MB/s eta 0:00:01\n",
      "     ---------------------------------------  3.8/3.8 MB 6.4 MB/s eta 0:00:01\n",
      "     ---------------------------------------- 3.8/3.8 MB 5.4 MB/s eta 0:00:00\n",
      "Collecting appdirs>=1.4.4 (from yfinance)\n",
      "  Downloading appdirs-1.4.4-py2.py3-none-any.whl (9.6 kB)\n",
      "Collecting pytz>=2022.5 (from yfinance)\n",
      "  Downloading pytz-2023.3-py2.py3-none-any.whl (502 kB)\n",
      "                                              0.0/502.3 kB ? eta -:--:--\n",
      "     --------                               112.6/502.3 kB 3.2 MB/s eta 0:00:01\n",
      "     -----------------                      225.3/502.3 kB 2.7 MB/s eta 0:00:01\n",
      "     ---------------------------            358.4/502.3 kB 2.8 MB/s eta 0:00:01\n",
      "     ------------------------------------   481.3/502.3 kB 2.7 MB/s eta 0:00:01\n",
      "     -------------------------------------  501.8/502.3 kB 2.9 MB/s eta 0:00:01\n",
      "     -------------------------------------- 502.3/502.3 kB 2.0 MB/s eta 0:00:00\n",
      "Collecting frozendict>=2.3.4 (from yfinance)\n",
      "  Downloading frozendict-2.3.8-cp310-cp310-win_amd64.whl (35 kB)\n",
      "Collecting beautifulsoup4>=4.11.1 (from yfinance)\n",
      "  Downloading beautifulsoup4-4.12.2-py3-none-any.whl (142 kB)\n",
      "                                              0.0/143.0 kB ? eta -:--:--\n",
      "     ----------------                        61.4/143.0 kB 3.4 MB/s eta 0:00:01\n",
      "     -----------------------------------    133.1/143.0 kB 2.6 MB/s eta 0:00:01\n",
      "     -------------------------------------- 143.0/143.0 kB 1.2 MB/s eta 0:00:00\n",
      "Collecting html5lib>=1.1 (from yfinance)\n",
      "  Downloading html5lib-1.1-py2.py3-none-any.whl (112 kB)\n",
      "                                              0.0/112.2 kB ? eta -:--:--\n",
      "                                              0.0/112.2 kB ? eta -:--:--\n",
      "     ----------------------------------     102.4/112.2 kB 5.8 MB/s eta 0:00:01\n",
      "     -------------------------------------- 112.2/112.2 kB 1.3 MB/s eta 0:00:00\n",
      "Collecting soupsieve>1.2 (from beautifulsoup4>=4.11.1->yfinance)\n",
      "  Downloading soupsieve-2.4.1-py3-none-any.whl (36 kB)\n",
      "Requirement already satisfied: six>=1.9 in c:\\users\\fcfm\\appdata\\local\\packages\\pythonsoftwarefoundation.python.3.10_qbz5n2kfra8p0\\localcache\\local-packages\\python310\\site-packages (from html5lib>=1.1->yfinance) (1.16.0)\n",
      "Collecting webencodings (from html5lib>=1.1->yfinance)\n",
      "  Downloading webencodings-0.5.1-py2.py3-none-any.whl (11 kB)\n",
      "Requirement already satisfied: python-dateutil>=2.8.2 in c:\\users\\fcfm\\appdata\\local\\packages\\pythonsoftwarefoundation.python.3.10_qbz5n2kfra8p0\\localcache\\local-packages\\python310\\site-packages (from pandas>=1.3.0->yfinance) (2.8.2)\n",
      "Collecting tzdata>=2022.1 (from pandas>=1.3.0->yfinance)\n",
      "  Downloading tzdata-2023.3-py2.py3-none-any.whl (341 kB)\n",
      "                                              0.0/341.8 kB ? eta -:--:--\n",
      "     ----------                              92.2/341.8 kB 1.7 MB/s eta 0:00:01\n",
      "     ---------------------                  194.6/341.8 kB 2.0 MB/s eta 0:00:01\n",
      "     -------------------------------        286.7/341.8 kB 2.0 MB/s eta 0:00:01\n",
      "     -------------------------------------  337.9/341.8 kB 2.1 MB/s eta 0:00:01\n",
      "     -------------------------------------- 341.8/341.8 kB 1.5 MB/s eta 0:00:00\n",
      "Requirement already satisfied: charset-normalizer<4,>=2 in c:\\users\\fcfm\\appdata\\local\\packages\\pythonsoftwarefoundation.python.3.10_qbz5n2kfra8p0\\localcache\\local-packages\\python310\\site-packages (from requests>=2.31->yfinance) (2.1.1)\n",
      "Requirement already satisfied: idna<4,>=2.5 in c:\\users\\fcfm\\appdata\\local\\packages\\pythonsoftwarefoundation.python.3.10_qbz5n2kfra8p0\\localcache\\local-packages\\python310\\site-packages (from requests>=2.31->yfinance) (3.4)\n",
      "Requirement already satisfied: urllib3<3,>=1.21.1 in c:\\users\\fcfm\\appdata\\local\\packages\\pythonsoftwarefoundation.python.3.10_qbz5n2kfra8p0\\localcache\\local-packages\\python310\\site-packages (from requests>=2.31->yfinance) (1.26.12)\n",
      "Requirement already satisfied: certifi>=2017.4.17 in c:\\users\\fcfm\\appdata\\local\\packages\\pythonsoftwarefoundation.python.3.10_qbz5n2kfra8p0\\localcache\\local-packages\\python310\\site-packages (from requests>=2.31->yfinance) (2022.6.15.2)\n",
      "Installing collected packages: webencodings, pytz, multitasking, appdirs, tzdata, soupsieve, requests, numpy, lxml, html5lib, frozendict, pandas, beautifulsoup4, yfinance\n",
      "  Attempting uninstall: requests\n",
      "    Found existing installation: requests 2.28.1\n",
      "    Uninstalling requests-2.28.1:\n",
      "      Successfully uninstalled requests-2.28.1\n",
      "Successfully installed appdirs-1.4.4 beautifulsoup4-4.12.2 frozendict-2.3.8 html5lib-1.1 lxml-4.9.3 multitasking-0.0.11 numpy-1.25.2 pandas-2.0.3 pytz-2023.3 requests-2.31.0 soupsieve-2.4.1 tzdata-2023.3 webencodings-0.5.1 yfinance-0.2.27\n",
      "Note: you may need to restart the kernel to use updated packages.\n"
     ]
    },
    {
     "name": "stderr",
     "output_type": "stream",
     "text": [
      "\n",
      "[notice] A new release of pip is available: 23.1.2 -> 23.2.1\n",
      "[notice] To update, run: C:\\Users\\fcfm\\AppData\\Local\\Microsoft\\WindowsApps\\PythonSoftwareFoundation.Python.3.10_qbz5n2kfra8p0\\python.exe -m pip install --upgrade pip\n"
     ]
    }
   ],
   "source": [
    "pip install yfinance"
   ]
  },
  {
   "cell_type": "code",
   "execution_count": 6,
   "metadata": {},
   "outputs": [],
   "source": [
    "import yfinance as yf #yf es un apodo"
   ]
  },
  {
   "cell_type": "code",
   "execution_count": 7,
   "metadata": {},
   "outputs": [
    {
     "name": "stdout",
     "output_type": "stream",
     "text": [
      "[*********************100%***********************]  1 of 1 completed"
     ]
    },
    {
     "name": "stderr",
     "output_type": "stream",
     "text": [
      "\n",
      "1 Failed download:\n",
      "['US.MX']: ValueError(\"time data '' does not match format '%Y-%m-%d'\")\n"
     ]
    },
    {
     "name": "stdout",
     "output_type": "stream",
     "text": [
      "\n"
     ]
    },
    {
     "data": {
      "text/html": [
       "<div>\n",
       "<style scoped>\n",
       "    .dataframe tbody tr th:only-of-type {\n",
       "        vertical-align: middle;\n",
       "    }\n",
       "\n",
       "    .dataframe tbody tr th {\n",
       "        vertical-align: top;\n",
       "    }\n",
       "\n",
       "    .dataframe thead th {\n",
       "        text-align: right;\n",
       "    }\n",
       "</style>\n",
       "<table border=\"1\" class=\"dataframe\">\n",
       "  <thead>\n",
       "    <tr style=\"text-align: right;\">\n",
       "      <th></th>\n",
       "      <th>Open</th>\n",
       "      <th>High</th>\n",
       "      <th>Low</th>\n",
       "      <th>Close</th>\n",
       "      <th>Adj Close</th>\n",
       "      <th>Volume</th>\n",
       "    </tr>\n",
       "    <tr>\n",
       "      <th>Date</th>\n",
       "      <th></th>\n",
       "      <th></th>\n",
       "      <th></th>\n",
       "      <th></th>\n",
       "      <th></th>\n",
       "      <th></th>\n",
       "    </tr>\n",
       "  </thead>\n",
       "  <tbody>\n",
       "  </tbody>\n",
       "</table>\n",
       "</div>"
      ],
      "text/plain": [
       "Empty DataFrame\n",
       "Columns: [Open, High, Low, Close, Adj Close, Volume]\n",
       "Index: []"
      ]
     },
     "execution_count": 7,
     "metadata": {},
     "output_type": "execute_result"
    }
   ],
   "source": [
    "#yfinance.download('US.MX','') #TIPO DE CAMBIO\n",
    "yf.download"
   ]
  },
  {
   "attachments": {},
   "cell_type": "markdown",
   "metadata": {},
   "source": [
    "## Numpy (numerical python)\n",
    "Libreria que le sirve a Python para manejar numeros.\n",
    "La estructura basica de numpy son los arreglos. Una colección de objetos del mismo tipo (numerico)"
   ]
  },
  {
   "attachments": {},
   "cell_type": "markdown",
   "metadata": {},
   "source": [
    "Vamos a suponer que tenemos la venta de aguas de la cafeteria de FCFM de la semana: Lunes 23, Martes 35, Miercoles 40, Jueves 28, Viernes 20"
   ]
  },
  {
   "cell_type": "code",
   "execution_count": 8,
   "metadata": {},
   "outputs": [],
   "source": [
    "ventas = [23,35,40,28,20]"
   ]
  },
  {
   "cell_type": "code",
   "execution_count": 9,
   "metadata": {},
   "outputs": [],
   "source": [
    "import numpy as np"
   ]
  },
  {
   "cell_type": "code",
   "execution_count": 10,
   "metadata": {},
   "outputs": [],
   "source": [
    "# convertir la lista en un arreglo\n",
    "ventas = np.array(ventas)"
   ]
  },
  {
   "cell_type": "code",
   "execution_count": 11,
   "metadata": {},
   "outputs": [
    {
     "data": {
      "text/plain": [
       "array([23, 35, 40, 28, 20])"
      ]
     },
     "execution_count": 11,
     "metadata": {},
     "output_type": "execute_result"
    }
   ],
   "source": [
    "ventas"
   ]
  },
  {
   "cell_type": "code",
   "execution_count": 13,
   "metadata": {},
   "outputs": [
    {
     "data": {
      "text/plain": [
       "146"
      ]
     },
     "execution_count": 13,
     "metadata": {},
     "output_type": "execute_result"
    }
   ],
   "source": [
    "#suma\n",
    "np.sum(ventas)"
   ]
  },
  {
   "cell_type": "code",
   "execution_count": 26,
   "metadata": {},
   "outputs": [
    {
     "data": {
      "text/plain": [
       "18032000"
      ]
     },
     "execution_count": 26,
     "metadata": {},
     "output_type": "execute_result"
    }
   ],
   "source": [
    "#multiplicacion\n",
    "np.product(ventas)"
   ]
  },
  {
   "cell_type": "code",
   "execution_count": 30,
   "metadata": {},
   "outputs": [
    {
     "data": {
      "text/plain": [
       "40"
      ]
     },
     "execution_count": 30,
     "metadata": {},
     "output_type": "execute_result"
    }
   ],
   "source": [
    "#maximo\n",
    "np.max(ventas)"
   ]
  },
  {
   "cell_type": "code",
   "execution_count": 31,
   "metadata": {},
   "outputs": [
    {
     "data": {
      "text/plain": [
       "20"
      ]
     },
     "execution_count": 31,
     "metadata": {},
     "output_type": "execute_result"
    }
   ],
   "source": [
    "#minimo\n",
    "np.min(ventas)"
   ]
  },
  {
   "cell_type": "code",
   "execution_count": 24,
   "metadata": {},
   "outputs": [
    {
     "data": {
      "text/plain": [
       "29.2"
      ]
     },
     "execution_count": 24,
     "metadata": {},
     "output_type": "execute_result"
    }
   ],
   "source": [
    "#media/promedio\n",
    "np.mean(ventas)"
   ]
  },
  {
   "cell_type": "code",
   "execution_count": 27,
   "metadata": {},
   "outputs": [
    {
     "data": {
      "text/plain": [
       "28.0"
      ]
     },
     "execution_count": 27,
     "metadata": {},
     "output_type": "execute_result"
    }
   ],
   "source": [
    "#mediana\n",
    "np.median(ventas)"
   ]
  },
  {
   "cell_type": "code",
   "execution_count": 28,
   "metadata": {},
   "outputs": [
    {
     "data": {
      "text/plain": [
       "54.96"
      ]
     },
     "execution_count": 28,
     "metadata": {},
     "output_type": "execute_result"
    }
   ],
   "source": [
    "#varianza (poblacional)\n",
    "np.var(ventas)"
   ]
  },
  {
   "cell_type": "code",
   "execution_count": 32,
   "metadata": {},
   "outputs": [
    {
     "data": {
      "text/plain": [
       "7.413501197140255"
      ]
     },
     "execution_count": 32,
     "metadata": {},
     "output_type": "execute_result"
    }
   ],
   "source": [
    "#desviacion estandar (poblacional)\n",
    "np.std(ventas,ddof=0)"
   ]
  },
  {
   "cell_type": "code",
   "execution_count": 33,
   "metadata": {},
   "outputs": [
    {
     "data": {
      "text/plain": [
       "68.7"
      ]
     },
     "execution_count": 33,
     "metadata": {},
     "output_type": "execute_result"
    }
   ],
   "source": [
    "#varianza muestral\n",
    "np.var(ventas, ddof=1)"
   ]
  },
  {
   "cell_type": "code",
   "execution_count": 34,
   "metadata": {},
   "outputs": [
    {
     "data": {
      "text/plain": [
       "8.28854631404084"
      ]
     },
     "execution_count": 34,
     "metadata": {},
     "output_type": "execute_result"
    }
   ],
   "source": [
    "#desiacion muestral\n",
    "np.std(ventas, ddof=1)"
   ]
  },
  {
   "cell_type": "code",
   "execution_count": 36,
   "metadata": {},
   "outputs": [
    {
     "data": {
      "text/plain": [
       "array([0, 1, 2, 3, 4, 5, 6, 7, 8])"
      ]
     },
     "execution_count": 36,
     "metadata": {},
     "output_type": "execute_result"
    }
   ],
   "source": [
    "#vector\n",
    "np.arange(9)"
   ]
  },
  {
   "cell_type": "code",
   "execution_count": 37,
   "metadata": {},
   "outputs": [
    {
     "data": {
      "text/plain": [
       "array([1, 2, 3, 4, 5, 6, 7, 8, 9])"
      ]
     },
     "execution_count": 37,
     "metadata": {},
     "output_type": "execute_result"
    }
   ],
   "source": [
    "#vector\n",
    "np.arange(1,10)"
   ]
  },
  {
   "cell_type": "code",
   "execution_count": 38,
   "metadata": {},
   "outputs": [
    {
     "data": {
      "text/plain": [
       "array([ 1, 16, 31, 46, 61, 76, 91])"
      ]
     },
     "execution_count": 38,
     "metadata": {},
     "output_type": "execute_result"
    }
   ],
   "source": [
    "np.arange(1,100,15)"
   ]
  },
  {
   "cell_type": "code",
   "execution_count": 39,
   "metadata": {},
   "outputs": [
    {
     "data": {
      "text/plain": [
       "array([8, 8, 8, 8, 8, 8])"
      ]
     },
     "execution_count": 39,
     "metadata": {},
     "output_type": "execute_result"
    }
   ],
   "source": [
    "np.full(6,8)"
   ]
  },
  {
   "cell_type": "code",
   "execution_count": 43,
   "metadata": {},
   "outputs": [
    {
     "data": {
      "text/plain": [
       "array([11,  6, 17,  2,  3,  3, 12, 16, 22, 17])"
      ]
     },
     "execution_count": 43,
     "metadata": {},
     "output_type": "execute_result"
    }
   ],
   "source": [
    "np.random.seed(12)\n",
    "## Distribucion uniforme\n",
    "aleatorios = np.random.randint(0,25,10)\n",
    "aleatorios"
   ]
  },
  {
   "cell_type": "code",
   "execution_count": 44,
   "metadata": {},
   "outputs": [],
   "source": [
    "aleatorios = np.sort(aleatorios)"
   ]
  },
  {
   "cell_type": "code",
   "execution_count": 47,
   "metadata": {},
   "outputs": [
    {
     "data": {
      "text/plain": [
       "10"
      ]
     },
     "execution_count": 47,
     "metadata": {},
     "output_type": "execute_result"
    }
   ],
   "source": [
    "#contar los numeros aleatorios\n",
    "len(aleatorios)"
   ]
  },
  {
   "cell_type": "code",
   "execution_count": 46,
   "metadata": {},
   "outputs": [
    {
     "data": {
      "text/plain": [
       "array([ 2,  3,  3,  6, 11, 12, 16, 17, 17, 22])"
      ]
     },
     "execution_count": 46,
     "metadata": {},
     "output_type": "execute_result"
    }
   ],
   "source": [
    "# función\n",
    "np.random.seed(19)\n",
    "aleatorios2 = np.random.randint(0,25,9)\n"
   ]
  },
  {
   "cell_type": "code",
   "execution_count": 48,
   "metadata": {},
   "outputs": [],
   "source": [
    "#\n",
    "numeros = [2.45,9.89,12.4567]\n"
   ]
  },
  {
   "attachments": {},
   "cell_type": "markdown",
   "metadata": {},
   "source": [
    "1. arreglos\n",
    "2. media\n",
    "3. redondear a dos decimales"
   ]
  },
  {
   "cell_type": "code",
   "execution_count": 49,
   "metadata": {},
   "outputs": [
    {
     "data": {
      "text/plain": [
       "8.27"
      ]
     },
     "execution_count": 49,
     "metadata": {},
     "output_type": "execute_result"
    }
   ],
   "source": [
    "#funcion\n",
    "round(np.mean(np.array(numeros)), 2)\n"
   ]
  },
  {
   "cell_type": "code",
   "execution_count": 50,
   "metadata": {},
   "outputs": [
    {
     "data": {
      "text/plain": [
       "8.27"
      ]
     },
     "execution_count": 50,
     "metadata": {},
     "output_type": "execute_result"
    }
   ],
   "source": [
    "#metodo\n",
    "np.array(numeros).mean().round(2)"
   ]
  }
 ],
 "metadata": {
  "kernelspec": {
   "display_name": "Python 3",
   "language": "python",
   "name": "python3"
  },
  "language_info": {
   "codemirror_mode": {
    "name": "ipython",
    "version": 3
   },
   "file_extension": ".py",
   "mimetype": "text/x-python",
   "name": "python",
   "nbconvert_exporter": "python",
   "pygments_lexer": "ipython3",
   "version": "3.10.11"
  },
  "orig_nbformat": 4
 },
 "nbformat": 4,
 "nbformat_minor": 2
}
