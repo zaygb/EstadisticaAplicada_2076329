{
 "cells": [
  {
   "cell_type": "markdown",
   "id": "15077421-4fb8-48e1-a360-252e20cde59a",
   "metadata": {},
   "source": [
    "# Ejercicio de Pandas"
   ]
  },
  {
   "cell_type": "markdown",
   "id": "453c7bc5-10c6-4adf-aec4-e14206fcf11f",
   "metadata": {},
   "source": [
    "Carga las 2 librerias que hemos visto a lo largo del curso junto con su \"apodo\"\n",
    "\n",
    "numpy, y pandas"
   ]
  },
  {
   "cell_type": "markdown",
   "id": "e49faae5-5c69-4680-a9ba-c33e25347850",
   "metadata": {},
   "source": [
    "**Coloca tu nombre y matricula** \n",
    "\n",
    "Nombre:\n",
    "\n",
    "Matricula:"
   ]
  },
  {
   "cell_type": "markdown",
   "id": "98dba434",
   "metadata": {},
   "source": [
    "1. Carga las librerias básicas"
   ]
  },
  {
   "cell_type": "code",
   "execution_count": 1,
   "id": "c93b212d-5354-4a80-8de8-dd23f90d8f1a",
   "metadata": {},
   "outputs": [],
   "source": [
    "##### carga las dos librerias usadas (numpy, pandas ) \n",
    "import numpy as np \n",
    "import pandas as pd\n"
   ]
  },
  {
   "cell_type": "markdown",
   "id": "80e5a00d-5aeb-4ae0-be87-fb17cc86d3fd",
   "metadata": {
    "tags": []
   },
   "source": [
    "El siguiente comando importa un data frame desde un archivo csv de internet"
   ]
  },
  {
   "cell_type": "code",
   "execution_count": 2,
   "id": "48bf2527-df27-43d8-bdd0-20fae67e645e",
   "metadata": {},
   "outputs": [],
   "source": [
    " ventas = pd.read_csv('https://raw.githubusercontent.com/jimmyzac/Estadistica-Aplicada-FCFM-UANL/main/bases_datos/ventas2.csv')"
   ]
  },
  {
   "cell_type": "markdown",
   "id": "3ea4f5ac",
   "metadata": {},
   "source": [
    "En caso de que una cantidad contenga decimales, debe estar redondeada a un decimal"
   ]
  },
  {
   "cell_type": "markdown",
   "id": "e963be95",
   "metadata": {},
   "source": [
    "2. Características del dataframe"
   ]
  },
  {
   "cell_type": "code",
   "execution_count": 4,
   "id": "70524dc3-d37d-42e0-a570-21d022719a59",
   "metadata": {},
   "outputs": [
    {
     "name": "stdout",
     "output_type": "stream",
     "text": [
      "<class 'pandas.core.frame.DataFrame'>\n",
      "RangeIndex: 168 entries, 0 to 167\n",
      "Data columns (total 4 columns):\n",
      " #   Column  Non-Null Count  Dtype \n",
      "---  ------  --------------  ----- \n",
      " 0   Año     168 non-null    int64 \n",
      " 1   Mes     168 non-null    object\n",
      " 2   Ventas  168 non-null    int64 \n",
      " 3   Gasto   168 non-null    int64 \n",
      "dtypes: int64(3), object(1)\n",
      "memory usage: 5.4+ KB\n"
     ]
    }
   ],
   "source": [
    "#con código de python muestra cuantas filas y columnas tiene el dataframe y como se llaman las columnas\n",
    "ventas.info()"
   ]
  },
  {
   "cell_type": "code",
   "execution_count": 5,
   "id": "7256d6a9-86f1-4713-afe5-6564cd004bdc",
   "metadata": {},
   "outputs": [
    {
     "data": {
      "text/html": [
       "<div>\n",
       "<style scoped>\n",
       "    .dataframe tbody tr th:only-of-type {\n",
       "        vertical-align: middle;\n",
       "    }\n",
       "\n",
       "    .dataframe tbody tr th {\n",
       "        vertical-align: top;\n",
       "    }\n",
       "\n",
       "    .dataframe thead th {\n",
       "        text-align: right;\n",
       "    }\n",
       "</style>\n",
       "<table border=\"1\" class=\"dataframe\">\n",
       "  <thead>\n",
       "    <tr style=\"text-align: right;\">\n",
       "      <th></th>\n",
       "      <th>Año</th>\n",
       "      <th>Mes</th>\n",
       "      <th>Ventas</th>\n",
       "      <th>Gasto</th>\n",
       "    </tr>\n",
       "  </thead>\n",
       "  <tbody>\n",
       "    <tr>\n",
       "      <th>0</th>\n",
       "      <td>2010</td>\n",
       "      <td>Enero</td>\n",
       "      <td>1056</td>\n",
       "      <td>533</td>\n",
       "    </tr>\n",
       "    <tr>\n",
       "      <th>1</th>\n",
       "      <td>2010</td>\n",
       "      <td>Febrero</td>\n",
       "      <td>910</td>\n",
       "      <td>496</td>\n",
       "    </tr>\n",
       "    <tr>\n",
       "      <th>2</th>\n",
       "      <td>2010</td>\n",
       "      <td>Marzo</td>\n",
       "      <td>1095</td>\n",
       "      <td>695</td>\n",
       "    </tr>\n",
       "    <tr>\n",
       "      <th>3</th>\n",
       "      <td>2010</td>\n",
       "      <td>Abril</td>\n",
       "      <td>1157</td>\n",
       "      <td>599</td>\n",
       "    </tr>\n",
       "    <tr>\n",
       "      <th>4</th>\n",
       "      <td>2010</td>\n",
       "      <td>Mayo</td>\n",
       "      <td>969</td>\n",
       "      <td>490</td>\n",
       "    </tr>\n",
       "  </tbody>\n",
       "</table>\n",
       "</div>"
      ],
      "text/plain": [
       "    Año      Mes  Ventas  Gasto\n",
       "0  2010    Enero    1056    533\n",
       "1  2010  Febrero     910    496\n",
       "2  2010    Marzo    1095    695\n",
       "3  2010    Abril    1157    599\n",
       "4  2010     Mayo     969    490"
      ]
     },
     "execution_count": 5,
     "metadata": {},
     "output_type": "execute_result"
    }
   ],
   "source": [
    "#muestra las primeras 5 filas del dataframe\n",
    "ventas.head()"
   ]
  },
  {
   "cell_type": "markdown",
   "id": "2c10a937-50af-4d99-9dfe-9128a8e21fac",
   "metadata": {},
   "source": [
    "*ventas es una base de datos que contiene las ventas mensuales de una tienda X para los años 2010-2023*"
   ]
  },
  {
   "cell_type": "markdown",
   "id": "0f97e867-2de1-45ff-ba01-b5fed8e7fbe8",
   "metadata": {},
   "source": [
    "3. Crea una nueva columna que se llame **Ganancias** y que contenga la diferencia entre ventas-gastos "
   ]
  },
  {
   "cell_type": "code",
   "execution_count": 7,
   "id": "769b870a-802b-4c27-864d-f9a442e287bb",
   "metadata": {},
   "outputs": [
    {
     "data": {
      "text/html": [
       "<div>\n",
       "<style scoped>\n",
       "    .dataframe tbody tr th:only-of-type {\n",
       "        vertical-align: middle;\n",
       "    }\n",
       "\n",
       "    .dataframe tbody tr th {\n",
       "        vertical-align: top;\n",
       "    }\n",
       "\n",
       "    .dataframe thead th {\n",
       "        text-align: right;\n",
       "    }\n",
       "</style>\n",
       "<table border=\"1\" class=\"dataframe\">\n",
       "  <thead>\n",
       "    <tr style=\"text-align: right;\">\n",
       "      <th></th>\n",
       "      <th>Año</th>\n",
       "      <th>Mes</th>\n",
       "      <th>Ventas</th>\n",
       "      <th>Gasto</th>\n",
       "      <th>Ganancias</th>\n",
       "    </tr>\n",
       "  </thead>\n",
       "  <tbody>\n",
       "    <tr>\n",
       "      <th>0</th>\n",
       "      <td>2010</td>\n",
       "      <td>Enero</td>\n",
       "      <td>1056</td>\n",
       "      <td>533</td>\n",
       "      <td>523</td>\n",
       "    </tr>\n",
       "    <tr>\n",
       "      <th>1</th>\n",
       "      <td>2010</td>\n",
       "      <td>Febrero</td>\n",
       "      <td>910</td>\n",
       "      <td>496</td>\n",
       "      <td>414</td>\n",
       "    </tr>\n",
       "    <tr>\n",
       "      <th>2</th>\n",
       "      <td>2010</td>\n",
       "      <td>Marzo</td>\n",
       "      <td>1095</td>\n",
       "      <td>695</td>\n",
       "      <td>400</td>\n",
       "    </tr>\n",
       "    <tr>\n",
       "      <th>3</th>\n",
       "      <td>2010</td>\n",
       "      <td>Abril</td>\n",
       "      <td>1157</td>\n",
       "      <td>599</td>\n",
       "      <td>558</td>\n",
       "    </tr>\n",
       "    <tr>\n",
       "      <th>4</th>\n",
       "      <td>2010</td>\n",
       "      <td>Mayo</td>\n",
       "      <td>969</td>\n",
       "      <td>490</td>\n",
       "      <td>479</td>\n",
       "    </tr>\n",
       "    <tr>\n",
       "      <th>...</th>\n",
       "      <td>...</td>\n",
       "      <td>...</td>\n",
       "      <td>...</td>\n",
       "      <td>...</td>\n",
       "      <td>...</td>\n",
       "    </tr>\n",
       "    <tr>\n",
       "      <th>163</th>\n",
       "      <td>2023</td>\n",
       "      <td>Agosto</td>\n",
       "      <td>1759</td>\n",
       "      <td>1818</td>\n",
       "      <td>-59</td>\n",
       "    </tr>\n",
       "    <tr>\n",
       "      <th>164</th>\n",
       "      <td>2023</td>\n",
       "      <td>Septiembre</td>\n",
       "      <td>2114</td>\n",
       "      <td>2142</td>\n",
       "      <td>-28</td>\n",
       "    </tr>\n",
       "    <tr>\n",
       "      <th>165</th>\n",
       "      <td>2023</td>\n",
       "      <td>Octubre</td>\n",
       "      <td>2120</td>\n",
       "      <td>1767</td>\n",
       "      <td>353</td>\n",
       "    </tr>\n",
       "    <tr>\n",
       "      <th>166</th>\n",
       "      <td>2023</td>\n",
       "      <td>Noviembre</td>\n",
       "      <td>2102</td>\n",
       "      <td>1652</td>\n",
       "      <td>450</td>\n",
       "    </tr>\n",
       "    <tr>\n",
       "      <th>167</th>\n",
       "      <td>2023</td>\n",
       "      <td>Diciembre</td>\n",
       "      <td>2166</td>\n",
       "      <td>2192</td>\n",
       "      <td>-26</td>\n",
       "    </tr>\n",
       "  </tbody>\n",
       "</table>\n",
       "<p>168 rows × 5 columns</p>\n",
       "</div>"
      ],
      "text/plain": [
       "      Año         Mes  Ventas  Gasto  Ganancias\n",
       "0    2010       Enero    1056    533        523\n",
       "1    2010     Febrero     910    496        414\n",
       "2    2010       Marzo    1095    695        400\n",
       "3    2010       Abril    1157    599        558\n",
       "4    2010        Mayo     969    490        479\n",
       "..    ...         ...     ...    ...        ...\n",
       "163  2023      Agosto    1759   1818        -59\n",
       "164  2023  Septiembre    2114   2142        -28\n",
       "165  2023     Octubre    2120   1767        353\n",
       "166  2023   Noviembre    2102   1652        450\n",
       "167  2023   Diciembre    2166   2192        -26\n",
       "\n",
       "[168 rows x 5 columns]"
      ]
     },
     "execution_count": 7,
     "metadata": {},
     "output_type": "execute_result"
    }
   ],
   "source": [
    "ventas['Ganancias']  = ventas['Ventas'] - ventas['Gasto']\n",
    "ventas\n"
   ]
  },
  {
   "cell_type": "markdown",
   "id": "cf16e2ac-d08c-4a9a-96a6-a2fbecd794e3",
   "metadata": {},
   "source": [
    "4. Encuentra el mes-año con las ganancias más altas "
   ]
  },
  {
   "cell_type": "code",
   "execution_count": 9,
   "id": "0506853b-39e8-4a98-9607-7fe9e3fa4471",
   "metadata": {},
   "outputs": [
    {
     "data": {
      "text/html": [
       "<div>\n",
       "<style scoped>\n",
       "    .dataframe tbody tr th:only-of-type {\n",
       "        vertical-align: middle;\n",
       "    }\n",
       "\n",
       "    .dataframe tbody tr th {\n",
       "        vertical-align: top;\n",
       "    }\n",
       "\n",
       "    .dataframe thead th {\n",
       "        text-align: right;\n",
       "    }\n",
       "</style>\n",
       "<table border=\"1\" class=\"dataframe\">\n",
       "  <thead>\n",
       "    <tr style=\"text-align: right;\">\n",
       "      <th></th>\n",
       "      <th>Año</th>\n",
       "      <th>Mes</th>\n",
       "      <th>Ventas</th>\n",
       "      <th>Gasto</th>\n",
       "      <th>Ganancias</th>\n",
       "    </tr>\n",
       "  </thead>\n",
       "  <tbody>\n",
       "    <tr>\n",
       "      <th>91</th>\n",
       "      <td>2017</td>\n",
       "      <td>Agosto</td>\n",
       "      <td>1680</td>\n",
       "      <td>1088</td>\n",
       "      <td>592</td>\n",
       "    </tr>\n",
       "  </tbody>\n",
       "</table>\n",
       "</div>"
      ],
      "text/plain": [
       "     Año     Mes  Ventas  Gasto  Ganancias\n",
       "91  2017  Agosto    1680   1088        592"
      ]
     },
     "execution_count": 9,
     "metadata": {},
     "output_type": "execute_result"
    }
   ],
   "source": [
    "ventas.sort_values('Ganancias', ascending=False).head(1)"
   ]
  },
  {
   "cell_type": "markdown",
   "id": "9914fb6f-89f2-47e3-a1b2-a3a31388dd53",
   "metadata": {},
   "source": [
    "5. Calcula e imprime las ventas totales, gastos totales y ganancias totales de  todo el periodo\\\n",
    "Ejemplo de mensaje: **las ventas totales son: 5000**, etc"
   ]
  },
  {
   "cell_type": "code",
   "execution_count": 12,
   "id": "d538d912-e521-4878-aadf-7288917df0a9",
   "metadata": {},
   "outputs": [
    {
     "name": "stdout",
     "output_type": "stream",
     "text": [
      "Las ventas totales son:  235731 , los gastos totales son:  181123  y las ganancias totales son:  54608\n"
     ]
    }
   ],
   "source": [
    "Ventas_Totales = ventas['Ventas'].sum()\n",
    "Gastos_Totales = ventas['Gasto'].sum()\n",
    "Ganancias_Totales = ventas['Ganancias'].sum()\n",
    "\n",
    "print('Las ventas totales son: ', Ventas_Totales, ', los gastos totales son: ', Gastos_Totales, ' y las ganancias totales son: ', Ganancias_Totales)"
   ]
  },
  {
   "cell_type": "markdown",
   "id": "38dae978-dc9f-4e6c-9902-98437bb6aa54",
   "metadata": {},
   "source": [
    "6. Calcula y muestra las ventas, gastos y ganancias para cada año\n"
   ]
  },
  {
   "cell_type": "code",
   "execution_count": 26,
   "id": "a6a89162-0e44-428c-bbdf-2fbef86eafb6",
   "metadata": {},
   "outputs": [
    {
     "data": {
      "text/html": [
       "<div>\n",
       "<style scoped>\n",
       "    .dataframe tbody tr th:only-of-type {\n",
       "        vertical-align: middle;\n",
       "    }\n",
       "\n",
       "    .dataframe tbody tr th {\n",
       "        vertical-align: top;\n",
       "    }\n",
       "\n",
       "    .dataframe thead th {\n",
       "        text-align: right;\n",
       "    }\n",
       "</style>\n",
       "<table border=\"1\" class=\"dataframe\">\n",
       "  <thead>\n",
       "    <tr style=\"text-align: right;\">\n",
       "      <th></th>\n",
       "      <th>Ventas</th>\n",
       "      <th>Gasto</th>\n",
       "      <th>Ganancias</th>\n",
       "    </tr>\n",
       "    <tr>\n",
       "      <th>Año</th>\n",
       "      <th></th>\n",
       "      <th></th>\n",
       "      <th></th>\n",
       "    </tr>\n",
       "  </thead>\n",
       "  <tbody>\n",
       "    <tr>\n",
       "      <th>2010</th>\n",
       "      <td>12015</td>\n",
       "      <td>6756</td>\n",
       "      <td>5259</td>\n",
       "    </tr>\n",
       "    <tr>\n",
       "      <th>2011</th>\n",
       "      <td>12778</td>\n",
       "      <td>7806</td>\n",
       "      <td>4972</td>\n",
       "    </tr>\n",
       "    <tr>\n",
       "      <th>2012</th>\n",
       "      <td>12965</td>\n",
       "      <td>8430</td>\n",
       "      <td>4535</td>\n",
       "    </tr>\n",
       "    <tr>\n",
       "      <th>2013</th>\n",
       "      <td>14037</td>\n",
       "      <td>8963</td>\n",
       "      <td>5074</td>\n",
       "    </tr>\n",
       "    <tr>\n",
       "      <th>2014</th>\n",
       "      <td>14922</td>\n",
       "      <td>10377</td>\n",
       "      <td>4545</td>\n",
       "    </tr>\n",
       "    <tr>\n",
       "      <th>2015</th>\n",
       "      <td>14951</td>\n",
       "      <td>10784</td>\n",
       "      <td>4167</td>\n",
       "    </tr>\n",
       "    <tr>\n",
       "      <th>2016</th>\n",
       "      <td>15376</td>\n",
       "      <td>11053</td>\n",
       "      <td>4323</td>\n",
       "    </tr>\n",
       "    <tr>\n",
       "      <th>2017</th>\n",
       "      <td>17189</td>\n",
       "      <td>12369</td>\n",
       "      <td>4820</td>\n",
       "    </tr>\n",
       "    <tr>\n",
       "      <th>2018</th>\n",
       "      <td>18325</td>\n",
       "      <td>14648</td>\n",
       "      <td>3677</td>\n",
       "    </tr>\n",
       "    <tr>\n",
       "      <th>2019</th>\n",
       "      <td>18204</td>\n",
       "      <td>14759</td>\n",
       "      <td>3445</td>\n",
       "    </tr>\n",
       "    <tr>\n",
       "      <th>2020</th>\n",
       "      <td>18917</td>\n",
       "      <td>16206</td>\n",
       "      <td>2711</td>\n",
       "    </tr>\n",
       "    <tr>\n",
       "      <th>2021</th>\n",
       "      <td>21057</td>\n",
       "      <td>17693</td>\n",
       "      <td>3364</td>\n",
       "    </tr>\n",
       "    <tr>\n",
       "      <th>2022</th>\n",
       "      <td>21692</td>\n",
       "      <td>18946</td>\n",
       "      <td>2746</td>\n",
       "    </tr>\n",
       "    <tr>\n",
       "      <th>2023</th>\n",
       "      <td>23303</td>\n",
       "      <td>22333</td>\n",
       "      <td>970</td>\n",
       "    </tr>\n",
       "  </tbody>\n",
       "</table>\n",
       "</div>"
      ],
      "text/plain": [
       "      Ventas  Gasto  Ganancias\n",
       "Año                           \n",
       "2010   12015   6756       5259\n",
       "2011   12778   7806       4972\n",
       "2012   12965   8430       4535\n",
       "2013   14037   8963       5074\n",
       "2014   14922  10377       4545\n",
       "2015   14951  10784       4167\n",
       "2016   15376  11053       4323\n",
       "2017   17189  12369       4820\n",
       "2018   18325  14648       3677\n",
       "2019   18204  14759       3445\n",
       "2020   18917  16206       2711\n",
       "2021   21057  17693       3364\n",
       "2022   21692  18946       2746\n",
       "2023   23303  22333        970"
      ]
     },
     "execution_count": 26,
     "metadata": {},
     "output_type": "execute_result"
    }
   ],
   "source": [
    "ventas.groupby('Año')[['Ventas','Gasto','Ganancias']].sum()"
   ]
  },
  {
   "cell_type": "code",
   "execution_count": null,
   "id": "b1c5b470",
   "metadata": {},
   "outputs": [],
   "source": []
  },
  {
   "cell_type": "markdown",
   "id": "caffc594-8756-4b20-9f24-49e460ca7797",
   "metadata": {},
   "source": [
    "7. Calcula y muestra las ventas promedio mensuales del año 2015"
   ]
  },
  {
   "cell_type": "code",
   "execution_count": 21,
   "id": "6beb888c-8b82-4755-9184-2487451436d9",
   "metadata": {},
   "outputs": [
    {
     "data": {
      "text/plain": [
       "1245.9"
      ]
     },
     "execution_count": 21,
     "metadata": {},
     "output_type": "execute_result"
    }
   ],
   "source": [
    "## escribe aqui el código\n",
    "ventas.query('Año==2015')['Ventas'].mean().round(1)\n"
   ]
  },
  {
   "cell_type": "markdown",
   "id": "5a7f7347-3def-4fd7-a14a-4ee98b327da6",
   "metadata": {},
   "source": [
    "8. Calcula e imprime las ventas totales y ventas promedio para los eneros. Es decir, para enero de 2010, enero de 2011, enero 2012, etc "
   ]
  },
  {
   "cell_type": "code",
   "execution_count": 45,
   "id": "03387695-22af-481c-93e4-c0493df7a9a5",
   "metadata": {},
   "outputs": [
    {
     "name": "stdout",
     "output_type": "stream",
     "text": [
      "Las ventas totales en enero son de:  20073\n"
     ]
    }
   ],
   "source": [
    "sum_ene = ventas.query('Mes==\"Enero\"')['Ventas'].sum().round(1)\n",
    "\n",
    "print('Las ventas totales en enero son de: ', sum_ene)\n"
   ]
  },
  {
   "cell_type": "code",
   "execution_count": 46,
   "id": "66e94149",
   "metadata": {},
   "outputs": [
    {
     "name": "stdout",
     "output_type": "stream",
     "text": [
      "El promedio de ventas en enero es de:  1433.8\n"
     ]
    }
   ],
   "source": [
    "mean_ene = ventas.query('Mes==\"Enero\"')['Ventas'].mean().round(1)\n",
    "\n",
    "print('El promedio de ventas en enero es de: ', mean_ene)"
   ]
  },
  {
   "cell_type": "markdown",
   "id": "f462b2c6-3d85-4c51-8958-d48716cdddd2",
   "metadata": {},
   "source": [
    "9. Calcula las ventas promedio por mes, y muestra los meses ordenados de menor a mayor según su promedio"
   ]
  },
  {
   "cell_type": "code",
   "execution_count": 50,
   "id": "9befa656-d898-49f8-b00c-f93485d05560",
   "metadata": {},
   "outputs": [
    {
     "data": {
      "text/plain": [
       "Mes\n",
       "Junio         1325.7\n",
       "Septiembre    1347.4\n",
       "Julio         1363.6\n",
       "Octubre       1388.3\n",
       "Marzo         1394.4\n",
       "Febrero       1406.4\n",
       "Mayo          1409.7\n",
       "Diciembre     1416.6\n",
       "Enero         1433.8\n",
       "Agosto        1437.9\n",
       "Noviembre     1456.6\n",
       "Abril         1457.5\n",
       "Name: Ventas, dtype: float64"
      ]
     },
     "execution_count": 50,
     "metadata": {},
     "output_type": "execute_result"
    }
   ],
   "source": [
    "## aqui va tu codigo\n",
    "ventas.groupby('Mes')['Ventas'].mean().round(1).sort_values()\n"
   ]
  }
 ],
 "metadata": {
  "kernelspec": {
   "display_name": "Python 3 (ipykernel)",
   "language": "python",
   "name": "python3"
  },
  "language_info": {
   "codemirror_mode": {
    "name": "ipython",
    "version": 3
   },
   "file_extension": ".py",
   "mimetype": "text/x-python",
   "name": "python",
   "nbconvert_exporter": "python",
   "pygments_lexer": "ipython3",
   "version": "3.10.11"
  }
 },
 "nbformat": 4,
 "nbformat_minor": 5
}
